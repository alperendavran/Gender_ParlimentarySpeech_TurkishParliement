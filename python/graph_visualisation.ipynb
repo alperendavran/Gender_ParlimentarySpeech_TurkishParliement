{
 "cells": [
  {
   "cell_type": "code",
   "execution_count": 1,
   "metadata": {},
   "outputs": [],
   "source": [
    "import pandas as pd\n",
    "df27=pd.read_excel(\"/Users/alperendavran/Dropbox/Pure_Summer_2023/Data/processed_data/updated_cv(09.08)/cv_27period_coded.xlsx\")\n",
    "tm27=pd.read_excel(\"/Users/alperendavran/Dropbox/Pure_Summer_2023/Data/topic_modeling/final_version/27#TOPICSwS(1).xlsx\")"
   ]
  },
  {
   "cell_type": "code",
   "execution_count": 3,
   "metadata": {},
   "outputs": [],
   "source": [
    "df26=pd.read_excel(\"/Users/alperendavran/Dropbox/Pure_Summer_2023/Data/processed_data/updated_cv(09.08)/cv_26period_coded.xlsx\")\n",
    "tm26=pd.read_excel(\"/Users/alperendavran/Dropbox/Pure_Summer_2023/Data/topic_modeling/final_version/26#TOPICSwS(1).xlsx\")"
   ]
  },
  {
   "cell_type": "code",
   "execution_count": 4,
   "metadata": {},
   "outputs": [],
   "source": [
    "df24=pd.read_excel(\"/Users/alperendavran/Dropbox/Pure_Summer_2023/Data/processed_data/cv_24period_coded-2.xlsx\")\n",
    "tm24=pd.read_excel(\"/Users/alperendavran/Dropbox/Pure_Summer_2023/Data/topic_modeling/final_version/24#TOPICSwS(1).xlsx\")"
   ]
  },
  {
   "cell_type": "code",
   "execution_count": 115,
   "metadata": {},
   "outputs": [
    {
     "name": "stdout",
     "output_type": "stream",
     "text": [
      "vekil_party\n",
      "AK Parti    299\n",
      "CHP         123\n",
      "HDP          28\n",
      "MHP          51\n",
      "Name: vekil_name, dtype: int64\n"
     ]
    }
   ],
   "source": [
    "unique_mps_per_party = tm24.groupby('vekil_party')['vekil_name'].nunique()\n",
    "unique_mps_per_party[\"AK Parti\"]\n",
    "print(unique_mps_per_party)"
   ]
  },
  {
   "cell_type": "code",
   "execution_count": 5,
   "metadata": {},
   "outputs": [
    {
     "data": {
      "text/html": [
       "<div>\n",
       "<style scoped>\n",
       "    .dataframe tbody tr th:only-of-type {\n",
       "        vertical-align: middle;\n",
       "    }\n",
       "\n",
       "    .dataframe tbody tr th {\n",
       "        vertical-align: top;\n",
       "    }\n",
       "\n",
       "    .dataframe thead th {\n",
       "        text-align: right;\n",
       "    }\n",
       "</style>\n",
       "<table border=\"1\" class=\"dataframe\">\n",
       "  <thead>\n",
       "    <tr style=\"text-align: right;\">\n",
       "      <th></th>\n",
       "      <th>vekil_party</th>\n",
       "      <th>sex</th>\n",
       "      <th>count</th>\n",
       "    </tr>\n",
       "  </thead>\n",
       "  <tbody>\n",
       "    <tr>\n",
       "      <th>0</th>\n",
       "      <td>AK Parti</td>\n",
       "      <td>erkek</td>\n",
       "      <td>271</td>\n",
       "    </tr>\n",
       "    <tr>\n",
       "      <th>1</th>\n",
       "      <td>AK Parti</td>\n",
       "      <td>kadin</td>\n",
       "      <td>47</td>\n",
       "    </tr>\n",
       "    <tr>\n",
       "      <th>2</th>\n",
       "      <td>AnaParti</td>\n",
       "      <td>kadin</td>\n",
       "      <td>1</td>\n",
       "    </tr>\n",
       "    <tr>\n",
       "      <th>3</th>\n",
       "      <td>BAĞIMSIZ</td>\n",
       "      <td>erkek</td>\n",
       "      <td>12</td>\n",
       "    </tr>\n",
       "    <tr>\n",
       "      <th>4</th>\n",
       "      <td>BAĞIMSIZ</td>\n",
       "      <td>kadin</td>\n",
       "      <td>1</td>\n",
       "    </tr>\n",
       "    <tr>\n",
       "      <th>5</th>\n",
       "      <td>CHP</td>\n",
       "      <td>erkek</td>\n",
       "      <td>111</td>\n",
       "    </tr>\n",
       "    <tr>\n",
       "      <th>6</th>\n",
       "      <td>CHP</td>\n",
       "      <td>kadin</td>\n",
       "      <td>18</td>\n",
       "    </tr>\n",
       "    <tr>\n",
       "      <th>7</th>\n",
       "      <td>DBP</td>\n",
       "      <td>kadin</td>\n",
       "      <td>1</td>\n",
       "    </tr>\n",
       "    <tr>\n",
       "      <th>8</th>\n",
       "      <td>E PARTİ</td>\n",
       "      <td>erkek</td>\n",
       "      <td>1</td>\n",
       "    </tr>\n",
       "    <tr>\n",
       "      <th>9</th>\n",
       "      <td>HDP</td>\n",
       "      <td>erkek</td>\n",
       "      <td>22</td>\n",
       "    </tr>\n",
       "    <tr>\n",
       "      <th>10</th>\n",
       "      <td>HDP</td>\n",
       "      <td>kadin</td>\n",
       "      <td>10</td>\n",
       "    </tr>\n",
       "    <tr>\n",
       "      <th>11</th>\n",
       "      <td>KADEP</td>\n",
       "      <td>erkek</td>\n",
       "      <td>1</td>\n",
       "    </tr>\n",
       "    <tr>\n",
       "      <th>12</th>\n",
       "      <td>MEP</td>\n",
       "      <td>erkek</td>\n",
       "      <td>1</td>\n",
       "    </tr>\n",
       "    <tr>\n",
       "      <th>13</th>\n",
       "      <td>MHP</td>\n",
       "      <td>erkek</td>\n",
       "      <td>49</td>\n",
       "    </tr>\n",
       "    <tr>\n",
       "      <th>14</th>\n",
       "      <td>MHP</td>\n",
       "      <td>kadin</td>\n",
       "      <td>3</td>\n",
       "    </tr>\n",
       "    <tr>\n",
       "      <th>15</th>\n",
       "      <td>MİLAD</td>\n",
       "      <td>erkek</td>\n",
       "      <td>1</td>\n",
       "    </tr>\n",
       "  </tbody>\n",
       "</table>\n",
       "</div>"
      ],
      "text/plain": [
       "   vekil_party    sex  count\n",
       "0     AK Parti  erkek    271\n",
       "1     AK Parti  kadin     47\n",
       "2     AnaParti  kadin      1\n",
       "3     BAĞIMSIZ  erkek     12\n",
       "4     BAĞIMSIZ  kadin      1\n",
       "5          CHP  erkek    111\n",
       "6          CHP  kadin     18\n",
       "7          DBP  kadin      1\n",
       "8      E PARTİ  erkek      1\n",
       "9          HDP  erkek     22\n",
       "10         HDP  kadin     10\n",
       "11       KADEP  erkek      1\n",
       "12         MEP  erkek      1\n",
       "13         MHP  erkek     49\n",
       "14         MHP  kadin      3\n",
       "15       MİLAD  erkek      1"
      ]
     },
     "execution_count": 5,
     "metadata": {},
     "output_type": "execute_result"
    }
   ],
   "source": [
    "df24.groupby(['vekil_party', 'sex']).size().reset_index(name='count') # for each unique combination of values in vekil_party and sex, \n",
    "#size()shows each iteration of combination and reset_index converts them into df "
   ]
  },
  {
   "cell_type": "code",
   "execution_count": 6,
   "metadata": {},
   "outputs": [
    {
     "data": {
      "text/html": [
       "<div>\n",
       "<style scoped>\n",
       "    .dataframe tbody tr th:only-of-type {\n",
       "        vertical-align: middle;\n",
       "    }\n",
       "\n",
       "    .dataframe tbody tr th {\n",
       "        vertical-align: top;\n",
       "    }\n",
       "\n",
       "    .dataframe thead th {\n",
       "        text-align: right;\n",
       "    }\n",
       "</style>\n",
       "<table border=\"1\" class=\"dataframe\">\n",
       "  <thead>\n",
       "    <tr style=\"text-align: right;\">\n",
       "      <th></th>\n",
       "      <th>vekil_party</th>\n",
       "      <th>sex</th>\n",
       "      <th>count</th>\n",
       "    </tr>\n",
       "  </thead>\n",
       "  <tbody>\n",
       "    <tr>\n",
       "      <th>0</th>\n",
       "      <td>AK Parti</td>\n",
       "      <td>erkek</td>\n",
       "      <td>283</td>\n",
       "    </tr>\n",
       "    <tr>\n",
       "      <th>1</th>\n",
       "      <td>AK Parti</td>\n",
       "      <td>kadin</td>\n",
       "      <td>34</td>\n",
       "    </tr>\n",
       "    <tr>\n",
       "      <th>2</th>\n",
       "      <td>BAĞIMSIZ</td>\n",
       "      <td>erkek</td>\n",
       "      <td>1</td>\n",
       "    </tr>\n",
       "    <tr>\n",
       "      <th>3</th>\n",
       "      <td>BAĞIMSIZ</td>\n",
       "      <td>kadin</td>\n",
       "      <td>1</td>\n",
       "    </tr>\n",
       "    <tr>\n",
       "      <th>4</th>\n",
       "      <td>CHP</td>\n",
       "      <td>erkek</td>\n",
       "      <td>112</td>\n",
       "    </tr>\n",
       "    <tr>\n",
       "      <th>5</th>\n",
       "      <td>CHP</td>\n",
       "      <td>kadin</td>\n",
       "      <td>19</td>\n",
       "    </tr>\n",
       "    <tr>\n",
       "      <th>6</th>\n",
       "      <td>CHP</td>\n",
       "      <td>kadın</td>\n",
       "      <td>2</td>\n",
       "    </tr>\n",
       "    <tr>\n",
       "      <th>7</th>\n",
       "      <td>HDP</td>\n",
       "      <td>erkek</td>\n",
       "      <td>35</td>\n",
       "    </tr>\n",
       "    <tr>\n",
       "      <th>8</th>\n",
       "      <td>HDP</td>\n",
       "      <td>kadin</td>\n",
       "      <td>17</td>\n",
       "    </tr>\n",
       "    <tr>\n",
       "      <th>9</th>\n",
       "      <td>HDP</td>\n",
       "      <td>kadın</td>\n",
       "      <td>6</td>\n",
       "    </tr>\n",
       "    <tr>\n",
       "      <th>10</th>\n",
       "      <td>MHP</td>\n",
       "      <td>erkek</td>\n",
       "      <td>32</td>\n",
       "    </tr>\n",
       "    <tr>\n",
       "      <th>11</th>\n",
       "      <td>MHP</td>\n",
       "      <td>kadin</td>\n",
       "      <td>3</td>\n",
       "    </tr>\n",
       "    <tr>\n",
       "      <th>12</th>\n",
       "      <td>İYİ Parti</td>\n",
       "      <td>erkek</td>\n",
       "      <td>6</td>\n",
       "    </tr>\n",
       "  </tbody>\n",
       "</table>\n",
       "</div>"
      ],
      "text/plain": [
       "   vekil_party    sex  count\n",
       "0     AK Parti  erkek    283\n",
       "1     AK Parti  kadin     34\n",
       "2     BAĞIMSIZ  erkek      1\n",
       "3     BAĞIMSIZ  kadin      1\n",
       "4          CHP  erkek    112\n",
       "5          CHP  kadin     19\n",
       "6          CHP  kadın      2\n",
       "7          HDP  erkek     35\n",
       "8          HDP  kadin     17\n",
       "9          HDP  kadın      6\n",
       "10         MHP  erkek     32\n",
       "11         MHP  kadin      3\n",
       "12   İYİ Parti  erkek      6"
      ]
     },
     "execution_count": 6,
     "metadata": {},
     "output_type": "execute_result"
    }
   ],
   "source": [
    "df26.groupby(['vekil_party', 'sex']).size().reset_index(name='count')"
   ]
  },
  {
   "cell_type": "code",
   "execution_count": 7,
   "metadata": {},
   "outputs": [
    {
     "data": {
      "text/html": [
       "<div>\n",
       "<style scoped>\n",
       "    .dataframe tbody tr th:only-of-type {\n",
       "        vertical-align: middle;\n",
       "    }\n",
       "\n",
       "    .dataframe tbody tr th {\n",
       "        vertical-align: top;\n",
       "    }\n",
       "\n",
       "    .dataframe thead th {\n",
       "        text-align: right;\n",
       "    }\n",
       "</style>\n",
       "<table border=\"1\" class=\"dataframe\">\n",
       "  <thead>\n",
       "    <tr style=\"text-align: right;\">\n",
       "      <th></th>\n",
       "      <th>vekil_party</th>\n",
       "      <th>sex</th>\n",
       "      <th>count</th>\n",
       "    </tr>\n",
       "  </thead>\n",
       "  <tbody>\n",
       "    <tr>\n",
       "      <th>0</th>\n",
       "      <td>AK Parti</td>\n",
       "      <td>erkek</td>\n",
       "      <td>238</td>\n",
       "    </tr>\n",
       "    <tr>\n",
       "      <th>1</th>\n",
       "      <td>AK Parti</td>\n",
       "      <td>kadin</td>\n",
       "      <td>56</td>\n",
       "    </tr>\n",
       "    <tr>\n",
       "      <th>2</th>\n",
       "      <td>BAĞIMSIZ</td>\n",
       "      <td>erkek</td>\n",
       "      <td>4</td>\n",
       "    </tr>\n",
       "    <tr>\n",
       "      <th>3</th>\n",
       "      <td>BBP</td>\n",
       "      <td>erkek</td>\n",
       "      <td>1</td>\n",
       "    </tr>\n",
       "    <tr>\n",
       "      <th>4</th>\n",
       "      <td>CHP</td>\n",
       "      <td>erkek</td>\n",
       "      <td>125</td>\n",
       "    </tr>\n",
       "    <tr>\n",
       "      <th>5</th>\n",
       "      <td>CHP</td>\n",
       "      <td>kadin</td>\n",
       "      <td>17</td>\n",
       "    </tr>\n",
       "    <tr>\n",
       "      <th>6</th>\n",
       "      <td>DP</td>\n",
       "      <td>erkek</td>\n",
       "      <td>1</td>\n",
       "    </tr>\n",
       "    <tr>\n",
       "      <th>7</th>\n",
       "      <td>HDP</td>\n",
       "      <td>erkek</td>\n",
       "      <td>39</td>\n",
       "    </tr>\n",
       "    <tr>\n",
       "      <th>8</th>\n",
       "      <td>HDP</td>\n",
       "      <td>kadin</td>\n",
       "      <td>25</td>\n",
       "    </tr>\n",
       "    <tr>\n",
       "      <th>9</th>\n",
       "      <td>MHP</td>\n",
       "      <td>erkek</td>\n",
       "      <td>45</td>\n",
       "    </tr>\n",
       "    <tr>\n",
       "      <th>10</th>\n",
       "      <td>MHP</td>\n",
       "      <td>kadin</td>\n",
       "      <td>4</td>\n",
       "    </tr>\n",
       "    <tr>\n",
       "      <th>11</th>\n",
       "      <td>Saadet P</td>\n",
       "      <td>erkek</td>\n",
       "      <td>2</td>\n",
       "    </tr>\n",
       "    <tr>\n",
       "      <th>12</th>\n",
       "      <td>TİP</td>\n",
       "      <td>erkek</td>\n",
       "      <td>3</td>\n",
       "    </tr>\n",
       "    <tr>\n",
       "      <th>13</th>\n",
       "      <td>TİP</td>\n",
       "      <td>kadin</td>\n",
       "      <td>1</td>\n",
       "    </tr>\n",
       "    <tr>\n",
       "      <th>14</th>\n",
       "      <td>İYİ Parti</td>\n",
       "      <td>erkek</td>\n",
       "      <td>37</td>\n",
       "    </tr>\n",
       "    <tr>\n",
       "      <th>15</th>\n",
       "      <td>İYİ Parti</td>\n",
       "      <td>kadin</td>\n",
       "      <td>2</td>\n",
       "    </tr>\n",
       "  </tbody>\n",
       "</table>\n",
       "</div>"
      ],
      "text/plain": [
       "   vekil_party    sex  count\n",
       "0     AK Parti  erkek    238\n",
       "1     AK Parti  kadin     56\n",
       "2     BAĞIMSIZ  erkek      4\n",
       "3          BBP  erkek      1\n",
       "4          CHP  erkek    125\n",
       "5          CHP  kadin     17\n",
       "6           DP  erkek      1\n",
       "7          HDP  erkek     39\n",
       "8          HDP  kadin     25\n",
       "9          MHP  erkek     45\n",
       "10         MHP  kadin      4\n",
       "11    Saadet P  erkek      2\n",
       "12         TİP  erkek      3\n",
       "13         TİP  kadin      1\n",
       "14   İYİ Parti  erkek     37\n",
       "15   İYİ Parti  kadin      2"
      ]
     },
     "execution_count": 7,
     "metadata": {},
     "output_type": "execute_result"
    }
   ],
   "source": [
    "df27.groupby(['vekil_party', 'sex']).size().reset_index(name='count')"
   ]
  },
  {
   "cell_type": "code",
   "execution_count": 8,
   "metadata": {},
   "outputs": [
    {
     "data": {
      "text/html": [
       "<div>\n",
       "<style scoped>\n",
       "    .dataframe tbody tr th:only-of-type {\n",
       "        vertical-align: middle;\n",
       "    }\n",
       "\n",
       "    .dataframe tbody tr th {\n",
       "        vertical-align: top;\n",
       "    }\n",
       "\n",
       "    .dataframe thead th {\n",
       "        text-align: right;\n",
       "    }\n",
       "</style>\n",
       "<table border=\"1\" class=\"dataframe\">\n",
       "  <thead>\n",
       "    <tr style=\"text-align: right;\">\n",
       "      <th></th>\n",
       "      <th>speech_topic</th>\n",
       "      <th>onevekil_yillar</th>\n",
       "      <th>speech_meetingNo</th>\n",
       "      <th>speech_date</th>\n",
       "      <th>speech_text</th>\n",
       "      <th>vekil_name</th>\n",
       "      <th>vekil_no</th>\n",
       "      <th>vekil_party</th>\n",
       "      <th>tokens</th>\n",
       "      <th>pre</th>\n",
       "      <th>speech_change</th>\n",
       "      <th>speech_no</th>\n",
       "      <th>topics_estimated</th>\n",
       "      <th>sex</th>\n",
       "    </tr>\n",
       "  </thead>\n",
       "  <tbody>\n",
       "    <tr>\n",
       "      <th>0</th>\n",
       "      <td>İSTANBUL'DAKİ CUMHURİYET HALK PARTİLİ BELEDİYE...</td>\n",
       "      <td>2</td>\n",
       "      <td>3</td>\n",
       "      <td>05/10/2011</td>\n",
       "      <td>TÜRKİYE BÜYÜK MİLLET MECLİSİ  KADİR GÖKMEN ÖĞÜ...</td>\n",
       "      <td>Kadir_Gökmen_ÖĞÜT</td>\n",
       "      <td>263</td>\n",
       "      <td>CHP</td>\n",
       "      <td>['türkiye', 'büyük', 'millet', 'meclis', 'kadi...</td>\n",
       "      <td>istanbul cumhuriyet halk partili belediye karş...</td>\n",
       "      <td>True</td>\n",
       "      <td>1</td>\n",
       "      <td>7</td>\n",
       "      <td>erkek</td>\n",
       "    </tr>\n",
       "    <tr>\n",
       "      <th>1</th>\n",
       "      <td>PARASIZ EĞİTİM İSTİYORUZ PANKARTI AÇAN 2 GEN...</td>\n",
       "      <td>2</td>\n",
       "      <td>4</td>\n",
       "      <td>06/10/2011</td>\n",
       "      <td>TÜRKİYE BÜYÜK MİLLET MECLİSİ  KADİR GÖKMEN ÖĞÜ...</td>\n",
       "      <td>Kadir_Gökmen_ÖĞÜT</td>\n",
       "      <td>263</td>\n",
       "      <td>CHP</td>\n",
       "      <td>['türkiye', 'büyük', 'millet', 'meclis', 'kadi...</td>\n",
       "      <td>vatandaş başbakan toplantı para eğitim pankart...</td>\n",
       "      <td>True</td>\n",
       "      <td>2</td>\n",
       "      <td>1</td>\n",
       "      <td>erkek</td>\n",
       "    </tr>\n",
       "    <tr>\n",
       "      <th>2</th>\n",
       "      <td>TRTNİN SANSÜR UYGULAMALARINA İLİŞKİN</td>\n",
       "      <td>2</td>\n",
       "      <td>8</td>\n",
       "      <td>18/10/2011</td>\n",
       "      <td>TÜRKİYE BÜYÜK MİLLET MECLİSİ KADİR GÖKMEN ÖĞÜT...</td>\n",
       "      <td>Kadir_Gökmen_ÖĞÜT</td>\n",
       "      <td>263</td>\n",
       "      <td>CHP</td>\n",
       "      <td>['türkiye', 'büyük', 'millet', 'meclis', 'kadi...</td>\n",
       "      <td>kullan elektrik para maydanoz sigara kes vergi...</td>\n",
       "      <td>True</td>\n",
       "      <td>3</td>\n",
       "      <td>7</td>\n",
       "      <td>erkek</td>\n",
       "    </tr>\n",
       "    <tr>\n",
       "      <th>3</th>\n",
       "      <td>CUMHURİYETİN 88İNCİ KURULUŞ YIL DÖNÜMÜNE VE K...</td>\n",
       "      <td>2</td>\n",
       "      <td>13</td>\n",
       "      <td>27/10/2011</td>\n",
       "      <td>TÜRKİYE BÜYÜK MİLLET MECLİSİ KADİR GÖKMEN ÖĞÜT...</td>\n",
       "      <td>Kadir_Gökmen_ÖĞÜT</td>\n",
       "      <td>263</td>\n",
       "      <td>CHP</td>\n",
       "      <td>['türkiye', 'büyük', 'millet', 'meclis', 'kadi...</td>\n",
       "      <td>öncelik cumhuriyet yıl yüce kutla gelecek haft...</td>\n",
       "      <td>True</td>\n",
       "      <td>4</td>\n",
       "      <td>5</td>\n",
       "      <td>erkek</td>\n",
       "    </tr>\n",
       "    <tr>\n",
       "      <th>4</th>\n",
       "      <td>1 KASIM 1922DE SALTANATIN KALDIRILIŞININ YIL ...</td>\n",
       "      <td>2</td>\n",
       "      <td>14</td>\n",
       "      <td>01/11/2011</td>\n",
       "      <td>TÜRKİYE BÜYÜK MİLLET MECLİSİ KADİR GÖKMEN ÖĞÜT...</td>\n",
       "      <td>Kadir_Gökmen_ÖĞÜT</td>\n",
       "      <td>263</td>\n",
       "      <td>CHP</td>\n",
       "      <td>['türkiye', 'büyük', 'millet', 'meclis', 'kadi...</td>\n",
       "      <td>bugün saltanat ilelebet orta kaldır yıl dönüm ...</td>\n",
       "      <td>True</td>\n",
       "      <td>5</td>\n",
       "      <td>5</td>\n",
       "      <td>erkek</td>\n",
       "    </tr>\n",
       "  </tbody>\n",
       "</table>\n",
       "</div>"
      ],
      "text/plain": [
       "                                        speech_topic  onevekil_yillar  \\\n",
       "0  İSTANBUL'DAKİ CUMHURİYET HALK PARTİLİ BELEDİYE...                2   \n",
       "1  PARASIZ EĞİTİM İSTİYORUZ PANKARTI AÇAN 2 GEN...                2   \n",
       "2              TRTNİN SANSÜR UYGULAMALARINA İLİŞKİN                2   \n",
       "3  CUMHURİYETİN 88İNCİ KURULUŞ YIL DÖNÜMÜNE VE K...                2   \n",
       "4  1 KASIM 1922DE SALTANATIN KALDIRILIŞININ YIL ...                2   \n",
       "\n",
       "   speech_meetingNo speech_date  \\\n",
       "0                 3  05/10/2011   \n",
       "1                 4  06/10/2011   \n",
       "2                 8  18/10/2011   \n",
       "3                13  27/10/2011   \n",
       "4                14  01/11/2011   \n",
       "\n",
       "                                         speech_text         vekil_name  \\\n",
       "0  TÜRKİYE BÜYÜK MİLLET MECLİSİ  KADİR GÖKMEN ÖĞÜ...  Kadir_Gökmen_ÖĞÜT   \n",
       "1  TÜRKİYE BÜYÜK MİLLET MECLİSİ  KADİR GÖKMEN ÖĞÜ...  Kadir_Gökmen_ÖĞÜT   \n",
       "2  TÜRKİYE BÜYÜK MİLLET MECLİSİ KADİR GÖKMEN ÖĞÜT...  Kadir_Gökmen_ÖĞÜT   \n",
       "3  TÜRKİYE BÜYÜK MİLLET MECLİSİ KADİR GÖKMEN ÖĞÜT...  Kadir_Gökmen_ÖĞÜT   \n",
       "4  TÜRKİYE BÜYÜK MİLLET MECLİSİ KADİR GÖKMEN ÖĞÜT...  Kadir_Gökmen_ÖĞÜT   \n",
       "\n",
       "   vekil_no vekil_party                                             tokens  \\\n",
       "0       263         CHP  ['türkiye', 'büyük', 'millet', 'meclis', 'kadi...   \n",
       "1       263         CHP  ['türkiye', 'büyük', 'millet', 'meclis', 'kadi...   \n",
       "2       263         CHP  ['türkiye', 'büyük', 'millet', 'meclis', 'kadi...   \n",
       "3       263         CHP  ['türkiye', 'büyük', 'millet', 'meclis', 'kadi...   \n",
       "4       263         CHP  ['türkiye', 'büyük', 'millet', 'meclis', 'kadi...   \n",
       "\n",
       "                                                 pre  speech_change  \\\n",
       "0  istanbul cumhuriyet halk partili belediye karş...           True   \n",
       "1  vatandaş başbakan toplantı para eğitim pankart...           True   \n",
       "2  kullan elektrik para maydanoz sigara kes vergi...           True   \n",
       "3  öncelik cumhuriyet yıl yüce kutla gelecek haft...           True   \n",
       "4  bugün saltanat ilelebet orta kaldır yıl dönüm ...           True   \n",
       "\n",
       "   speech_no  topics_estimated    sex  \n",
       "0          1                 7  erkek  \n",
       "1          2                 1  erkek  \n",
       "2          3                 7  erkek  \n",
       "3          4                 5  erkek  \n",
       "4          5                 5  erkek  "
      ]
     },
     "execution_count": 8,
     "metadata": {},
     "output_type": "execute_result"
    }
   ],
   "source": [
    "tm24.head()"
   ]
  },
  {
   "cell_type": "code",
   "execution_count": 9,
   "metadata": {},
   "outputs": [],
   "source": [
    "topic_lookup24 = [\n",
    "    'women/violence', 'education', 'foreign_affairs', 'residual 1',\n",
    "    'judiciary', 'heroism', 'labor', 'media/corruption', 'parliamentary affairs',\n",
    "    'agriculture', 'economy', 'parliamentary disputes', 'local_politics',\n",
    "    'procurement', 'health', 'residual 2', 'residual 3', 'parliamentary procedures',\n",
    "    'private sector', 'regime discussions'\n",
    "]\n",
    "\n",
    "topic_lookup26 = [\n",
    "    'heroism', 'women/violence', 'education', 'agriculture',\n",
    "    'parliamentary affairs', 'terror', 'residual', 'parliamentary procedures', 'economy',\n",
    "    'residual 2', 'judiciary', 'local_politics', 'residual 3',\n",
    "    'regime discussions', 'heroism', 'parliamentary disputes', 'foreign_affairs', 'labor',\n",
    "    'private sector', 'TAX'\n",
    "]\n",
    "topic_lookup27 = [\n",
    "    'parliamentary disputes', 'education', 'private_sector', 'judiciary', \n",
    "    'local_politics', 'corruption', 'environment', 'private_sector', 'foreign_affairs',\n",
    "    'TAX', 'parliamentary procedures', 'heroism', 'women/violence',\n",
    "    'economy', 'agriculture', 'labor', 'private_sector', 'economy',\n",
    "    'earthquake', 'judiciary'\n",
    "]\n"
   ]
  },
  {
   "cell_type": "code",
   "execution_count": 10,
   "metadata": {},
   "outputs": [],
   "source": [
    "for index, row in tm24.iterrows():\n",
    "    topics_estimated = int(row['topics_estimated'])\n",
    "    tm24.loc[index, 'topic_label'] = topic_lookup24[topics_estimated]"
   ]
  },
  {
   "cell_type": "code",
   "execution_count": 11,
   "metadata": {},
   "outputs": [],
   "source": [
    "for index, row in tm26.iterrows():\n",
    "    topics_estimated = int(row['topics_estimated'])\n",
    "    tm26.loc[index, 'topic_label'] = topic_lookup26[topics_estimated]"
   ]
  },
  {
   "cell_type": "code",
   "execution_count": 12,
   "metadata": {},
   "outputs": [],
   "source": [
    "for index, row in tm27.iterrows():\n",
    "    topics_estimated = int(row['topics_estimated'])\n",
    "    tm27.loc[index, 'topic_label'] = topic_lookup27[topics_estimated]"
   ]
  },
  {
   "cell_type": "code",
   "execution_count": 13,
   "metadata": {},
   "outputs": [
    {
     "data": {
      "text/plain": [
       "vekil_party\n",
       "CHP         47698\n",
       "HDP         33567\n",
       "AK Parti    29138\n",
       "MHP         16426\n",
       "Name: count, dtype: int64"
      ]
     },
     "execution_count": 13,
     "metadata": {},
     "output_type": "execute_result"
    }
   ],
   "source": [
    "tm27=tm27[tm27['vekil_party']!=\"BAĞIMSIZ\"]\n",
    "#tm27=tm27[tm27['vekil_party']!=\"MHP\"]\n",
    "tm27=tm27[tm27['vekil_party']!=\"İYİ Parti\"]\n",
    "tm27=tm27[tm27['vekil_party']!=\"TİP\"]\n",
    "tm27=tm27[tm27['vekil_party']!=\"Saadet P\"]\n",
    "tm27=tm27[tm27['vekil_party']!=\"BBP\"]\n",
    "tm27=tm27[tm27['vekil_party']!=\"DP\"]\n",
    "tm27['vekil_party'].value_counts()\n"
   ]
  },
  {
   "cell_type": "code",
   "execution_count": 14,
   "metadata": {},
   "outputs": [
    {
     "data": {
      "text/plain": [
       "vekil_party\n",
       "CHP         42707\n",
       "AK Parti    37148\n",
       "MHP         30498\n",
       "HDP         16856\n",
       "Name: count, dtype: int64"
      ]
     },
     "execution_count": 14,
     "metadata": {},
     "output_type": "execute_result"
    }
   ],
   "source": [
    "tm24=tm24[tm24['vekil_party']!=\"BAĞIMSIZ\"]\n",
    "tm24=tm24[tm24['vekil_party']!=\"MİLAD\"]\n",
    "tm24=tm24[tm24['vekil_party']!=\"AnaParti\"]\n",
    "tm24=tm24[tm24['vekil_party']!=\"MEP\"]\n",
    "tm24=tm24[tm24['vekil_party']!=\"DBP\"]\n",
    "tm24=tm24[tm24['vekil_party']!=\"E\"]\n",
    "#tm24=tm24[tm24['vekil_party']!=\"MHP\"]\n",
    "\n",
    "tm24['vekil_party'].value_counts()\n"
   ]
  },
  {
   "cell_type": "code",
   "execution_count": 15,
   "metadata": {},
   "outputs": [],
   "source": [
    "tm26=tm26[tm26['vekil_party']!=\"İYİ Parti\"]\n",
    "tm26=tm26[tm26['vekil_party']!=\"BAĞIMSIZ\"]\n",
    "#tm26=tm26[tm26['vekil_party']!=\"MHP\"]"
   ]
  },
  {
   "cell_type": "code",
   "execution_count": 16,
   "metadata": {},
   "outputs": [],
   "source": [
    "grouped24 = tm24.groupby(['vekil_party', 'sex','topic_label']).size().reset_index(name='count')"
   ]
  },
  {
   "cell_type": "code",
   "execution_count": 17,
   "metadata": {},
   "outputs": [],
   "source": [
    "grouped26 = tm26.groupby(['vekil_party', 'sex','topic_label']).size().reset_index(name='count')"
   ]
  },
  {
   "cell_type": "code",
   "execution_count": 18,
   "metadata": {},
   "outputs": [],
   "source": [
    "grouped27 = tm27.groupby(['vekil_party', 'sex','topic_label']).size().reset_index(name='count')"
   ]
  },
  {
   "cell_type": "code",
   "execution_count": 19,
   "metadata": {},
   "outputs": [
    {
     "data": {
      "text/plain": [
       "topic_label\n",
       "TAX                         8\n",
       "agriculture                 8\n",
       "earthquake                  8\n",
       "economy                     8\n",
       "education                   8\n",
       "environment                 8\n",
       "foreign_affairs             8\n",
       "heroism                     8\n",
       "judiciary                   8\n",
       "labor                       8\n",
       "local_politics              8\n",
       "parliamentary disputes      8\n",
       "parliamentary procedures    8\n",
       "private_sector              8\n",
       "women/violence              8\n",
       "corruption                  7\n",
       "Name: count, dtype: int64"
      ]
     },
     "execution_count": 19,
     "metadata": {},
     "output_type": "execute_result"
    }
   ],
   "source": [
    "grouped27['topic_label'].value_counts()"
   ]
  },
  {
   "cell_type": "code",
   "execution_count": 20,
   "metadata": {},
   "outputs": [
    {
     "data": {
      "text/html": [
       "<div>\n",
       "<style scoped>\n",
       "    .dataframe tbody tr th:only-of-type {\n",
       "        vertical-align: middle;\n",
       "    }\n",
       "\n",
       "    .dataframe tbody tr th {\n",
       "        vertical-align: top;\n",
       "    }\n",
       "\n",
       "    .dataframe thead th {\n",
       "        text-align: right;\n",
       "    }\n",
       "</style>\n",
       "<table border=\"1\" class=\"dataframe\">\n",
       "  <thead>\n",
       "    <tr style=\"text-align: right;\">\n",
       "      <th></th>\n",
       "      <th>vekil_party</th>\n",
       "      <th>sex</th>\n",
       "      <th>topic_label</th>\n",
       "      <th>count</th>\n",
       "    </tr>\n",
       "  </thead>\n",
       "  <tbody>\n",
       "    <tr>\n",
       "      <th>0</th>\n",
       "      <td>AK Parti</td>\n",
       "      <td>erkek</td>\n",
       "      <td>agriculture</td>\n",
       "      <td>1514</td>\n",
       "    </tr>\n",
       "    <tr>\n",
       "      <th>1</th>\n",
       "      <td>AK Parti</td>\n",
       "      <td>erkek</td>\n",
       "      <td>economy</td>\n",
       "      <td>1822</td>\n",
       "    </tr>\n",
       "    <tr>\n",
       "      <th>2</th>\n",
       "      <td>AK Parti</td>\n",
       "      <td>erkek</td>\n",
       "      <td>education</td>\n",
       "      <td>1512</td>\n",
       "    </tr>\n",
       "    <tr>\n",
       "      <th>3</th>\n",
       "      <td>AK Parti</td>\n",
       "      <td>erkek</td>\n",
       "      <td>foreign_affairs</td>\n",
       "      <td>1905</td>\n",
       "    </tr>\n",
       "    <tr>\n",
       "      <th>4</th>\n",
       "      <td>AK Parti</td>\n",
       "      <td>erkek</td>\n",
       "      <td>health</td>\n",
       "      <td>1653</td>\n",
       "    </tr>\n",
       "    <tr>\n",
       "      <th>...</th>\n",
       "      <td>...</td>\n",
       "      <td>...</td>\n",
       "      <td>...</td>\n",
       "      <td>...</td>\n",
       "    </tr>\n",
       "    <tr>\n",
       "      <th>155</th>\n",
       "      <td>MHP</td>\n",
       "      <td>kadin</td>\n",
       "      <td>regime discussions</td>\n",
       "      <td>24</td>\n",
       "    </tr>\n",
       "    <tr>\n",
       "      <th>156</th>\n",
       "      <td>MHP</td>\n",
       "      <td>kadin</td>\n",
       "      <td>residual 1</td>\n",
       "      <td>21</td>\n",
       "    </tr>\n",
       "    <tr>\n",
       "      <th>157</th>\n",
       "      <td>MHP</td>\n",
       "      <td>kadin</td>\n",
       "      <td>residual 2</td>\n",
       "      <td>31</td>\n",
       "    </tr>\n",
       "    <tr>\n",
       "      <th>158</th>\n",
       "      <td>MHP</td>\n",
       "      <td>kadin</td>\n",
       "      <td>residual 3</td>\n",
       "      <td>34</td>\n",
       "    </tr>\n",
       "    <tr>\n",
       "      <th>159</th>\n",
       "      <td>MHP</td>\n",
       "      <td>kadin</td>\n",
       "      <td>women/violence</td>\n",
       "      <td>181</td>\n",
       "    </tr>\n",
       "  </tbody>\n",
       "</table>\n",
       "<p>160 rows × 4 columns</p>\n",
       "</div>"
      ],
      "text/plain": [
       "    vekil_party    sex         topic_label  count\n",
       "0      AK Parti  erkek         agriculture   1514\n",
       "1      AK Parti  erkek             economy   1822\n",
       "2      AK Parti  erkek           education   1512\n",
       "3      AK Parti  erkek     foreign_affairs   1905\n",
       "4      AK Parti  erkek              health   1653\n",
       "..          ...    ...                 ...    ...\n",
       "155         MHP  kadin  regime discussions     24\n",
       "156         MHP  kadin          residual 1     21\n",
       "157         MHP  kadin          residual 2     31\n",
       "158         MHP  kadin          residual 3     34\n",
       "159         MHP  kadin      women/violence    181\n",
       "\n",
       "[160 rows x 4 columns]"
      ]
     },
     "execution_count": 20,
     "metadata": {},
     "output_type": "execute_result"
    }
   ],
   "source": [
    "grouped24"
   ]
  },
  {
   "cell_type": "code",
   "execution_count": 21,
   "metadata": {},
   "outputs": [],
   "source": [
    "exclude1 = [ 'parliamentary affairs','residual 1' , 'parliamentary procedures'  , 'residual 2',\n",
    "                'residual 3','parliamentary disputes']\n",
    "\n",
    "grouped24_filtered = grouped24[~grouped24['topic_label'].isin(exclude1)]"
   ]
  },
  {
   "cell_type": "code",
   "execution_count": 22,
   "metadata": {},
   "outputs": [
    {
     "name": "stderr",
     "output_type": "stream",
     "text": [
      "<ipython-input-22-5106ba394347>:8: SettingWithCopyWarning: \n",
      "A value is trying to be set on a copy of a slice from a DataFrame.\n",
      "Try using .loc[row_indexer,col_indexer] = value instead\n",
      "\n",
      "See the caveats in the documentation: https://pandas.pydata.org/pandas-docs/stable/user_guide/indexing.html#returning-a-view-versus-a-copy\n",
      "  grouped24_filtered['percentage'] = grouped24_filtered.apply(lambda row: (row['count'] / new_total_per_party[row['vekil_party']]) * 100, axis=1)\n"
     ]
    },
    {
     "data": {
      "text/plain": [
       "<Figure size 864x504 with 0 Axes>"
      ]
     },
     "metadata": {},
     "output_type": "display_data"
    },
    {
     "data": {
      "image/png": "[encoded data removed]",
      "text/plain": [
       "<Figure size 720x504 with 1 Axes>"
      ]
     },
     "metadata": {
      "needs_background": "light"
     },
     "output_type": "display_data"
    }
   ],
   "source": [
    "import matplotlib.pyplot as plt\n",
    "import numpy as np\n",
    "\n",
    "# Calculate the new total for each party after filtering\n",
    "new_total_per_party = grouped24_filtered.groupby('vekil_party')['count'].sum()\n",
    "\n",
    "# Calculate the percentage distribution for each topic within each party using the filtered data\n",
    "grouped24_filtered['percentage'] = grouped24_filtered.apply(lambda row: (row['count'] / new_total_per_party[row['vekil_party']]) * 100, axis=1)\n",
    "\n",
    "# Pivoting the filtered data for visualization\n",
    "pivot_filtered_df = grouped24_filtered.pivot_table(index='vekil_party', columns='topic_label', values='percentage', fill_value=0)\n",
    "\n",
    "# Define a color palette\n",
    "palette = plt.get_cmap('tab20').colors\n",
    "while len(palette) < len(pivot_filtered_df.columns):\n",
    "    # Extend the color palette by blending colors if there are more topics than available distinct colors\n",
    "    new_color = np.array(palette[-20]) * 0.5 + np.array(palette[-19]) * 0.5\n",
    "    palette.append(tuple(new_color))\n",
    "\n",
    "# Choose colors for the topics\n",
    "colors = palette[:len(pivot_filtered_df.columns)]\n",
    "\n",
    "# Plotting\n",
    "plt.figure(figsize=(12, 7))\n",
    "pivot_filtered_df.plot(kind='bar', stacked=True, color=colors, figsize=(10,7))\n",
    "plt.title('TERM 24 Percentage Distribution of Topics by Party (Filtered)')\n",
    "plt.ylabel('Percentage')\n",
    "plt.xlabel('Party')\n",
    "plt.legend(title='Topic', bbox_to_anchor=(1.05, 1), loc='upper left')\n",
    "plt.tight_layout()\n",
    "plt.show()\n"
   ]
  },
  {
   "cell_type": "code",
   "execution_count": 23,
   "metadata": {},
   "outputs": [],
   "source": [
    "topic_lookup26 = [\n",
    "    'heroism', 'women/violence', 'education', 'agriculture',\n",
    "    'parliamentary affairs', 'terror', 'residual', 'parliamentary procedures', 'economy',\n",
    "    'residual 2', 'judiciary', 'local politics', 'residual 3',\n",
    "    'regime discussions', 'heroism', 'parliamentary disputes', 'foreign affairs', 'labor',\n",
    "    'private sector', 'TAX','terror'\n",
    "]\n",
    "\n",
    "# List of topics to exclude\n",
    "exclude1 = [ 'parliamentary affairs','residual' , 'parliamentary procedures'  , 'residual 2',\n",
    "                'residual 3','parliamentary disputes']\n",
    "\n",
    "# Filter out \n",
    "grouped26_filtered = grouped26[~grouped26['topic_label'].isin(exclude1)]"
   ]
  },
  {
   "cell_type": "code",
   "execution_count": 24,
   "metadata": {},
   "outputs": [
    {
     "name": "stderr",
     "output_type": "stream",
     "text": [
      "<ipython-input-24-ea782d04b404>:8: SettingWithCopyWarning: \n",
      "A value is trying to be set on a copy of a slice from a DataFrame.\n",
      "Try using .loc[row_indexer,col_indexer] = value instead\n",
      "\n",
      "See the caveats in the documentation: https://pandas.pydata.org/pandas-docs/stable/user_guide/indexing.html#returning-a-view-versus-a-copy\n",
      "  grouped26_filtered['percentage'] = grouped26_filtered.apply(lambda row: (row['count'] / new_total_per_party[row['vekil_party']]) * 100, axis=1)\n"
     ]
    },
    {
     "data": {
      "text/plain": [
       "<Figure size 864x504 with 0 Axes>"
      ]
     },
     "metadata": {},
     "output_type": "display_data"
    },
    {
     "data": {
      "image/png": "[encoded data removed]",
      "text/plain": [
       "<Figure size 720x504 with 1 Axes>"
      ]
     },
     "metadata": {
      "needs_background": "light"
     },
     "output_type": "display_data"
    }
   ],
   "source": [
    "import matplotlib.pyplot as plt\n",
    "import numpy as np\n",
    "\n",
    "# Calculate the new total for each party after filtering\n",
    "new_total_per_party = grouped26_filtered.groupby('vekil_party')['count'].sum()\n",
    "\n",
    "# Calculate the percentage distribution for each topic within each party using the filtered data\n",
    "grouped26_filtered['percentage'] = grouped26_filtered.apply(lambda row: (row['count'] / new_total_per_party[row['vekil_party']]) * 100, axis=1)\n",
    "\n",
    "# Pivoting the filtered data for visualization\n",
    "pivot_filtered_df = grouped26_filtered.pivot_table(index='vekil_party', columns='topic_label', values='percentage', fill_value=0)\n",
    "\n",
    "# Define a color palette\n",
    "palette = plt.get_cmap('tab20').colors\n",
    "while len(palette) < len(pivot_filtered_df.columns):\n",
    "    # Extend the color palette by blending colors if there are more topics than available distinct colors\n",
    "    new_color = np.array(palette[-20]) * 0.5 + np.array(palette[-19]) * 0.5\n",
    "    palette.append(tuple(new_color))\n",
    "\n",
    "# Choose colors for the topics\n",
    "colors = palette[:len(pivot_filtered_df.columns)]\n",
    "\n",
    "# Plotting\n",
    "plt.figure(figsize=(12, 7))\n",
    "pivot_filtered_df.plot(kind='bar', stacked=True, color=colors, figsize=(10,7))\n",
    "plt.title('TERM 26 Percentage Distribution of Topics by Party (Filtered)')\n",
    "plt.ylabel('Percentage')\n",
    "plt.xlabel('Party')\n",
    "plt.legend(title='Topic', bbox_to_anchor=(1.05, 1), loc='upper left')\n",
    "plt.tight_layout()\n",
    "plt.show()\n"
   ]
  },
  {
   "cell_type": "code",
   "execution_count": 25,
   "metadata": {},
   "outputs": [],
   "source": [
    "topic_lookup27 = [\n",
    "    'parliamentary disputes', 'education', 'private_sector', 'judiciary', \n",
    "    'local_politics', 'corruption', 'environment', 'private_sector', 'foreign affairs',\n",
    "    'TAX', 'parliamentary procedures', 'heroism', 'women/violence',\n",
    "    'economy', 'agriculture', 'labor', 'private_sector', 'economy',\n",
    "    'earthquake', 'judiciary'\n",
    "]\n",
    "\n",
    "exclude1 = [ 'parliamentary disputes', 'parliamentary procedures' , 'residual 2', \n",
    "                'residual 3','parliamentary disputes']\n",
    "\n",
    "grouped27_filtered = grouped27[~grouped27['topic_label'].isin(exclude1)]"
   ]
  },
  {
   "cell_type": "code",
   "execution_count": 26,
   "metadata": {},
   "outputs": [
    {
     "name": "stderr",
     "output_type": "stream",
     "text": [
      "<ipython-input-26-f08e2358a567>:8: SettingWithCopyWarning: \n",
      "A value is trying to be set on a copy of a slice from a DataFrame.\n",
      "Try using .loc[row_indexer,col_indexer] = value instead\n",
      "\n",
      "See the caveats in the documentation: https://pandas.pydata.org/pandas-docs/stable/user_guide/indexing.html#returning-a-view-versus-a-copy\n",
      "  grouped27_filtered['percentage'] = grouped27_filtered.apply(lambda row: (row['count'] / new_total_per_party[row['vekil_party']]) * 100, axis=1)\n"
     ]
    },
    {
     "data": {
      "text/plain": [
       "<Figure size 864x504 with 0 Axes>"
      ]
     },
     "metadata": {},
     "output_type": "display_data"
    },
    {
     "data": {
      "image/png": "[encoded data removed]",
      "text/plain": [
       "<Figure size 720x504 with 1 Axes>"
      ]
     },
     "metadata": {
      "needs_background": "light"
     },
     "output_type": "display_data"
    }
   ],
   "source": [
    "import matplotlib.pyplot as plt\n",
    "import numpy as np\n",
    "\n",
    "# Calculate the new total for each party after filtering\n",
    "new_total_per_party = grouped27_filtered.groupby('vekil_party')['count'].sum()\n",
    "\n",
    "# Calculate the percentage distribution for each topic within each party using the filtered data\n",
    "grouped27_filtered['percentage'] = grouped27_filtered.apply(lambda row: (row['count'] / new_total_per_party[row['vekil_party']]) * 100, axis=1)\n",
    "\n",
    "# Pivoting the filtered data for visualization\n",
    "pivot_filtered_df = grouped27_filtered.pivot_table(index='vekil_party', columns='topic_label', values='percentage', fill_value=0)\n",
    "\n",
    "# Define a color palette\n",
    "palette = plt.get_cmap('tab20').colors\n",
    "while len(palette) < len(pivot_filtered_df.columns):\n",
    "    # Extend the color palette by blending colors if there are more topics than available distinct colors\n",
    "    new_color = np.array(palette[-20]) * 0.5 + np.array(palette[-19]) * 0.5\n",
    "    palette.append(tuple(new_color))\n",
    "\n",
    "# Choose colors for the topics\n",
    "colors = palette[:len(pivot_filtered_df.columns)]\n",
    "\n",
    "# Plotting\n",
    "plt.figure(figsize=(12, 7))\n",
    "pivot_filtered_df.plot(kind='bar', stacked=True, color=colors, figsize=(10,7))\n",
    "plt.title('TERM 27 Percentage Distribution of Topics by Party (Filtered)')\n",
    "plt.ylabel('Percentage')\n",
    "plt.xlabel('Party')\n",
    "plt.legend(title='Topic', bbox_to_anchor=(1.05, 1), loc='upper left')\n",
    "plt.tight_layout()\n",
    "plt.show()\n"
   ]
  },
  {
   "cell_type": "code",
   "execution_count": 27,
   "metadata": {},
   "outputs": [],
   "source": [
    "topic_lookup27 = [\n",
    "    'parliamentary disputes', 'education', 'private sector', 'judiciary', \n",
    "    'local_politics', 'corruption', 'environment', 'private_sector', 'foreign affairs',\n",
    "    'TAX', 'parliamentary procedures', 'heroism', 'women/violence',\n",
    "    'economy', 'agriculture', 'labor', 'private_sector', 'economy',\n",
    "    'earthquake', 'judiciary'\n",
    "]\n",
    "\n",
    "exclude = [ 'parliamentary disputes', 'private_sector','parliamentary procedures'  , 'residual 2','private sector',\n",
    "                'residual 3','parliamentary disputes', 'procurement','private_sector','health','corruption','environment','TAX','earthquake','private_sector']\n",
    "\n",
    "filtered_df27 = grouped27[~grouped27['topic_label'].isin(exclude)]"
   ]
  },
  {
   "cell_type": "code",
   "execution_count": 28,
   "metadata": {},
   "outputs": [],
   "source": [
    "#filtered_df27['vekil_party']=filtered_df27['vekil_party'].apply(lambda x: \"iyi parti\" if x==\"İYİ Parti\" else x)"
   ]
  },
  {
   "cell_type": "code",
   "execution_count": 29,
   "metadata": {},
   "outputs": [
    {
     "data": {
      "text/plain": [
       "vekil_party\n",
       "AK Parti    18\n",
       "CHP         18\n",
       "HDP         18\n",
       "MHP         18\n",
       "Name: count, dtype: int64"
      ]
     },
     "execution_count": 29,
     "metadata": {},
     "output_type": "execute_result"
    }
   ],
   "source": [
    "filtered_df27['vekil_party'].value_counts()"
   ]
  },
  {
   "cell_type": "code",
   "execution_count": 30,
   "metadata": {},
   "outputs": [],
   "source": [
    "topic_lookup26 = [\n",
    "    'heroism', 'women/violence', 'education', 'agriculture',\n",
    "    'parliamentary affairs', 'terror', 'residual', 'parliamentary procedures', 'economy',\n",
    "    'residual 2', 'judiciary', 'local politics', 'residual 3',\n",
    "    'regime discussions', 'heroism', 'parliamentary disputes', 'foreign affairs', 'labor',\n",
    "    'private sector', 'TAX','terror'\n",
    "]\n",
    "\n",
    "# List of topics to exclude\n",
    "exclude = [ 'parliamentary affairs','residual' , 'parliamentary procedures'  , 'residual 2',\n",
    "                'residual 3','parliamentary disputes', 'TAX','private sector','regime discussions','terror']\n",
    "\n",
    "# Filter out \n",
    "filtered_df26 = grouped26[~grouped26['topic_label'].isin(exclude)]"
   ]
  },
  {
   "cell_type": "code",
   "execution_count": 31,
   "metadata": {},
   "outputs": [],
   "source": [
    "topic_lookup24 = [\n",
    "    'women/violence', 'education', 'foreign affairs', 'residual 1',\n",
    "    'judiciary', 'heroism', 'labor', 'media/corruption', 'parliamentary affairs',\n",
    "    'agriculture', 'economy', 'parliamentary disputes', 'local politics',\n",
    "    'procurement', 'health', 'residual 2', 'residual 3', 'parliamentary procedures',\n",
    "    'private sector', 'regime discussions'\n",
    "]\n",
    "\n",
    "\n",
    "exclude = [ 'parliamentary affairs','residual 1' , 'parliamentary procedures'  , 'residual 2',\n",
    "                'residual 3','parliamentary disputes', 'procurement','private sector','health','media/corruption','regime discussions']\n",
    "\n",
    "filtered_df24 = grouped24[~grouped24['topic_label'].isin(exclude)]"
   ]
  },
  {
   "cell_type": "code",
   "execution_count": 32,
   "metadata": {},
   "outputs": [
    {
     "data": {
      "text/plain": [
       "vekil_party\n",
       "AK Parti     238\n",
       "CHP          125\n",
       "MHP           45\n",
       "HDP           39\n",
       "İYİ Parti     37\n",
       "BAĞIMSIZ       4\n",
       "TİP            3\n",
       "Saadet P       2\n",
       "DP             1\n",
       "BBP            1\n",
       "Name: count, dtype: int64"
      ]
     },
     "execution_count": 32,
     "metadata": {},
     "output_type": "execute_result"
    }
   ],
   "source": [
    "df27[df27['sex']==\"erkek\"][\"vekil_party\"].value_counts()"
   ]
  },
  {
   "cell_type": "code",
   "execution_count": 33,
   "metadata": {},
   "outputs": [],
   "source": [
    "def get_sexby_party2(party,sex,term):\n",
    "   df = globals()[f\"df{term}\"]\n",
    "   return df[df['vekil_party'] == party]['sex'].value_counts().get(sex)"
   ]
  },
  {
   "cell_type": "code",
   "execution_count": 34,
   "metadata": {},
   "outputs": [
    {
     "data": {
      "text/plain": [
       "array(['AK Parti', 'CHP', 'HDP', 'MHP'], dtype=object)"
      ]
     },
     "execution_count": 34,
     "metadata": {},
     "output_type": "execute_result"
    }
   ],
   "source": [
    "filtered_df27['vekil_party'].unique()"
   ]
  },
  {
   "cell_type": "code",
   "execution_count": 35,
   "metadata": {},
   "outputs": [
    {
     "data": {
      "text/plain": [
       "array(['AK Parti', 'MHP', 'CHP', 'İYİ Parti', 'HDP', 'DP', 'TİP',\n",
       "       'BAĞIMSIZ', 'Saadet P', 'BBP'], dtype=object)"
      ]
     },
     "execution_count": 35,
     "metadata": {},
     "output_type": "execute_result"
    }
   ],
   "source": [
    "df27['vekil_party'].unique()"
   ]
  },
  {
   "cell_type": "code",
   "execution_count": 36,
   "metadata": {},
   "outputs": [
    {
     "name": "stdout",
     "output_type": "stream",
     "text": [
      "None\n"
     ]
    }
   ],
   "source": [
    "print(get_sexby_party2(\"iyi parti\",\"erkek\",\"27\"))"
   ]
  },
  {
   "cell_type": "code",
   "execution_count": 37,
   "metadata": {},
   "outputs": [],
   "source": [
    "#df27['vekil_party']=df27['vekil_party'].apply(lambda x: \"\" if x ==\"İYİ Parti\" else x)"
   ]
  },
  {
   "cell_type": "code",
   "execution_count": 38,
   "metadata": {},
   "outputs": [
    {
     "data": {
      "text/html": [
       "<div>\n",
       "<style scoped>\n",
       "    .dataframe tbody tr th:only-of-type {\n",
       "        vertical-align: middle;\n",
       "    }\n",
       "\n",
       "    .dataframe tbody tr th {\n",
       "        vertical-align: top;\n",
       "    }\n",
       "\n",
       "    .dataframe thead th {\n",
       "        text-align: right;\n",
       "    }\n",
       "</style>\n",
       "<table border=\"1\" class=\"dataframe\">\n",
       "  <thead>\n",
       "    <tr style=\"text-align: right;\">\n",
       "      <th></th>\n",
       "      <th>vekil_party</th>\n",
       "      <th>sex</th>\n",
       "      <th>topic_label</th>\n",
       "      <th>count</th>\n",
       "    </tr>\n",
       "  </thead>\n",
       "  <tbody>\n",
       "    <tr>\n",
       "      <th>1</th>\n",
       "      <td>AK Parti</td>\n",
       "      <td>erkek</td>\n",
       "      <td>agriculture</td>\n",
       "      <td>574</td>\n",
       "    </tr>\n",
       "    <tr>\n",
       "      <th>4</th>\n",
       "      <td>AK Parti</td>\n",
       "      <td>erkek</td>\n",
       "      <td>economy</td>\n",
       "      <td>1145</td>\n",
       "    </tr>\n",
       "    <tr>\n",
       "      <th>5</th>\n",
       "      <td>AK Parti</td>\n",
       "      <td>erkek</td>\n",
       "      <td>education</td>\n",
       "      <td>1085</td>\n",
       "    </tr>\n",
       "    <tr>\n",
       "      <th>7</th>\n",
       "      <td>AK Parti</td>\n",
       "      <td>erkek</td>\n",
       "      <td>foreign_affairs</td>\n",
       "      <td>1937</td>\n",
       "    </tr>\n",
       "    <tr>\n",
       "      <th>8</th>\n",
       "      <td>AK Parti</td>\n",
       "      <td>erkek</td>\n",
       "      <td>heroism</td>\n",
       "      <td>2584</td>\n",
       "    </tr>\n",
       "    <tr>\n",
       "      <th>...</th>\n",
       "      <td>...</td>\n",
       "      <td>...</td>\n",
       "      <td>...</td>\n",
       "      <td>...</td>\n",
       "    </tr>\n",
       "    <tr>\n",
       "      <th>119</th>\n",
       "      <td>MHP</td>\n",
       "      <td>kadin</td>\n",
       "      <td>heroism</td>\n",
       "      <td>175</td>\n",
       "    </tr>\n",
       "    <tr>\n",
       "      <th>120</th>\n",
       "      <td>MHP</td>\n",
       "      <td>kadin</td>\n",
       "      <td>judiciary</td>\n",
       "      <td>5</td>\n",
       "    </tr>\n",
       "    <tr>\n",
       "      <th>121</th>\n",
       "      <td>MHP</td>\n",
       "      <td>kadin</td>\n",
       "      <td>labor</td>\n",
       "      <td>99</td>\n",
       "    </tr>\n",
       "    <tr>\n",
       "      <th>122</th>\n",
       "      <td>MHP</td>\n",
       "      <td>kadin</td>\n",
       "      <td>local_politics</td>\n",
       "      <td>32</td>\n",
       "    </tr>\n",
       "    <tr>\n",
       "      <th>126</th>\n",
       "      <td>MHP</td>\n",
       "      <td>kadin</td>\n",
       "      <td>women/violence</td>\n",
       "      <td>86</td>\n",
       "    </tr>\n",
       "  </tbody>\n",
       "</table>\n",
       "<p>72 rows × 4 columns</p>\n",
       "</div>"
      ],
      "text/plain": [
       "    vekil_party    sex      topic_label  count\n",
       "1      AK Parti  erkek      agriculture    574\n",
       "4      AK Parti  erkek          economy   1145\n",
       "5      AK Parti  erkek        education   1085\n",
       "7      AK Parti  erkek  foreign_affairs   1937\n",
       "8      AK Parti  erkek          heroism   2584\n",
       "..          ...    ...              ...    ...\n",
       "119         MHP  kadin          heroism    175\n",
       "120         MHP  kadin        judiciary      5\n",
       "121         MHP  kadin            labor     99\n",
       "122         MHP  kadin   local_politics     32\n",
       "126         MHP  kadin   women/violence     86\n",
       "\n",
       "[72 rows x 4 columns]"
      ]
     },
     "execution_count": 38,
     "metadata": {},
     "output_type": "execute_result"
    }
   ],
   "source": [
    "filtered_df27"
   ]
  },
  {
   "cell_type": "code",
   "execution_count": 39,
   "metadata": {},
   "outputs": [
    {
     "name": "stderr",
     "output_type": "stream",
     "text": [
      "<ipython-input-39-e939a5887e1e>:10: SettingWithCopyWarning: \n",
      "A value is trying to be set on a copy of a slice from a DataFrame.\n",
      "Try using .loc[row_indexer,col_indexer] = value instead\n",
      "\n",
      "See the caveats in the documentation: https://pandas.pydata.org/pandas-docs/stable/user_guide/indexing.html#returning-a-view-versus-a-copy\n",
      "  df['normalized_count'] = df.apply(lambda x: x['count'] / get_sexby_party2(x['vekil_party'], x['sex'], term), axis=1)\n"
     ]
    }
   ],
   "source": [
    "def get_sexby_party2(party,sex,term):\n",
    "   df = globals()[f\"df{term}\"]\n",
    "   return df[df['vekil_party'] == party]['sex'].value_counts().get(sex)\n",
    "\n",
    "def get_sexby_party1(party,sex,term):\n",
    "   df = globals()[f\"df{term}\"]\n",
    "   return df['sex'].value_counts().get(sex)\n",
    "\n",
    "def normalize_data(df, term):\n",
    "    df['normalized_count'] = df.apply(lambda x: x['count'] / get_sexby_party2(x['vekil_party'], x['sex'], term), axis=1)\n",
    "    return df\n",
    "\n",
    "df27_normalized = normalize_data(filtered_df27, 27)"
   ]
  },
  {
   "cell_type": "code",
   "execution_count": 40,
   "metadata": {},
   "outputs": [
    {
     "name": "stderr",
     "output_type": "stream",
     "text": [
      "<ipython-input-40-d55765d32a8d>:10: SettingWithCopyWarning: \n",
      "A value is trying to be set on a copy of a slice from a DataFrame.\n",
      "Try using .loc[row_indexer,col_indexer] = value instead\n",
      "\n",
      "See the caveats in the documentation: https://pandas.pydata.org/pandas-docs/stable/user_guide/indexing.html#returning-a-view-versus-a-copy\n",
      "  df['normalized_count'] = df.apply(lambda x: x['count'] / get_sexby_party2(x['vekil_party'], x['sex'], term), axis=1)\n"
     ]
    }
   ],
   "source": [
    "def get_sexby_party2(party,sex,term):\n",
    "   df = globals()[f\"df{term}\"]\n",
    "   return df[df['vekil_party'] == party]['sex'].value_counts().get(sex)\n",
    "\n",
    "def get_sexby_party1(party,sex,term):\n",
    "   df = globals()[f\"df{term}\"]\n",
    "   return df['sex'].value_counts().get(sex)\n",
    "\n",
    "def normalize_data(df, term):\n",
    "    df['normalized_count'] = df.apply(lambda x: x['count'] / get_sexby_party2(x['vekil_party'], x['sex'], term), axis=1)\n",
    "    return df\n",
    "\n",
    "df24_normalized = normalize_data(filtered_df24, 24)"
   ]
  },
  {
   "cell_type": "code",
   "execution_count": 41,
   "metadata": {},
   "outputs": [
    {
     "name": "stderr",
     "output_type": "stream",
     "text": [
      "<ipython-input-41-a42e95afd5ba>:10: SettingWithCopyWarning: \n",
      "A value is trying to be set on a copy of a slice from a DataFrame.\n",
      "Try using .loc[row_indexer,col_indexer] = value instead\n",
      "\n",
      "See the caveats in the documentation: https://pandas.pydata.org/pandas-docs/stable/user_guide/indexing.html#returning-a-view-versus-a-copy\n",
      "  df['normalized_count'] = df.apply(lambda x: x['count'] / get_sexby_party2(x['vekil_party'], x['sex'], term), axis=1)\n"
     ]
    }
   ],
   "source": [
    "def get_sexby_party2(party,sex,term):\n",
    "   df = globals()[f\"df{term}\"]\n",
    "   return df[df['vekil_party'] == party]['sex'].value_counts().get(sex)\n",
    "\n",
    "def get_sexby_party1(party,sex,term):\n",
    "   df = globals()[f\"df{term}\"]\n",
    "   return df['sex'].value_counts().get(sex)\n",
    "\n",
    "def normalize_data(df, term):\n",
    "    df['normalized_count'] = df.apply(lambda x: x['count'] / get_sexby_party2(x['vekil_party'], x['sex'], term), axis=1)\n",
    "    return df\n",
    "\n",
    "df26_normalized = normalize_data(filtered_df26, 26)"
   ]
  },
  {
   "cell_type": "code",
   "execution_count": 42,
   "metadata": {},
   "outputs": [
    {
     "name": "stdout",
     "output_type": "stream",
     "text": [
      "    vekil_party    sex      topic_label  count  normalized_count\n",
      "1      AK Parti  erkek      agriculture    574          2.411765\n",
      "4      AK Parti  erkek          economy   1145          4.810924\n",
      "5      AK Parti  erkek        education   1085          4.558824\n",
      "7      AK Parti  erkek  foreign_affairs   1937          8.138655\n",
      "8      AK Parti  erkek          heroism   2584         10.857143\n",
      "..          ...    ...              ...    ...               ...\n",
      "119         MHP  kadin          heroism    175         43.750000\n",
      "120         MHP  kadin        judiciary      5          1.250000\n",
      "121         MHP  kadin            labor     99         24.750000\n",
      "122         MHP  kadin   local_politics     32          8.000000\n",
      "126         MHP  kadin   women/violence     86         21.500000\n",
      "\n",
      "[72 rows x 5 columns]\n"
     ]
    }
   ],
   "source": [
    "print(df27_normalized)"
   ]
  },
  {
   "cell_type": "code",
   "execution_count": 43,
   "metadata": {},
   "outputs": [
    {
     "data": {
      "text/html": [
       "<div>\n",
       "<style scoped>\n",
       "    .dataframe tbody tr th:only-of-type {\n",
       "        vertical-align: middle;\n",
       "    }\n",
       "\n",
       "    .dataframe tbody tr th {\n",
       "        vertical-align: top;\n",
       "    }\n",
       "\n",
       "    .dataframe thead th {\n",
       "        text-align: right;\n",
       "    }\n",
       "</style>\n",
       "<table border=\"1\" class=\"dataframe\">\n",
       "  <thead>\n",
       "    <tr style=\"text-align: right;\">\n",
       "      <th></th>\n",
       "      <th>vekil_party</th>\n",
       "      <th>sex</th>\n",
       "      <th>topic_label</th>\n",
       "      <th>count</th>\n",
       "      <th>normalized_count</th>\n",
       "    </tr>\n",
       "  </thead>\n",
       "  <tbody>\n",
       "    <tr>\n",
       "      <th>1</th>\n",
       "      <td>AK Parti</td>\n",
       "      <td>erkek</td>\n",
       "      <td>agriculture</td>\n",
       "      <td>925</td>\n",
       "      <td>3.268551</td>\n",
       "    </tr>\n",
       "    <tr>\n",
       "      <th>2</th>\n",
       "      <td>AK Parti</td>\n",
       "      <td>erkek</td>\n",
       "      <td>economy</td>\n",
       "      <td>1099</td>\n",
       "      <td>3.883392</td>\n",
       "    </tr>\n",
       "    <tr>\n",
       "      <th>3</th>\n",
       "      <td>AK Parti</td>\n",
       "      <td>erkek</td>\n",
       "      <td>education</td>\n",
       "      <td>842</td>\n",
       "      <td>2.975265</td>\n",
       "    </tr>\n",
       "    <tr>\n",
       "      <th>4</th>\n",
       "      <td>AK Parti</td>\n",
       "      <td>erkek</td>\n",
       "      <td>foreign_affairs</td>\n",
       "      <td>1480</td>\n",
       "      <td>5.229682</td>\n",
       "    </tr>\n",
       "    <tr>\n",
       "      <th>5</th>\n",
       "      <td>AK Parti</td>\n",
       "      <td>erkek</td>\n",
       "      <td>heroism</td>\n",
       "      <td>3976</td>\n",
       "      <td>14.049470</td>\n",
       "    </tr>\n",
       "    <tr>\n",
       "      <th>...</th>\n",
       "      <td>...</td>\n",
       "      <td>...</td>\n",
       "      <td>...</td>\n",
       "      <td>...</td>\n",
       "      <td>...</td>\n",
       "    </tr>\n",
       "    <tr>\n",
       "      <th>138</th>\n",
       "      <td>MHP</td>\n",
       "      <td>kadin</td>\n",
       "      <td>heroism</td>\n",
       "      <td>185</td>\n",
       "      <td>61.666667</td>\n",
       "    </tr>\n",
       "    <tr>\n",
       "      <th>139</th>\n",
       "      <td>MHP</td>\n",
       "      <td>kadin</td>\n",
       "      <td>judiciary</td>\n",
       "      <td>11</td>\n",
       "      <td>3.666667</td>\n",
       "    </tr>\n",
       "    <tr>\n",
       "      <th>140</th>\n",
       "      <td>MHP</td>\n",
       "      <td>kadin</td>\n",
       "      <td>labor</td>\n",
       "      <td>109</td>\n",
       "      <td>36.333333</td>\n",
       "    </tr>\n",
       "    <tr>\n",
       "      <th>141</th>\n",
       "      <td>MHP</td>\n",
       "      <td>kadin</td>\n",
       "      <td>local_politics</td>\n",
       "      <td>54</td>\n",
       "      <td>18.000000</td>\n",
       "    </tr>\n",
       "    <tr>\n",
       "      <th>151</th>\n",
       "      <td>MHP</td>\n",
       "      <td>kadin</td>\n",
       "      <td>women/violence</td>\n",
       "      <td>336</td>\n",
       "      <td>112.000000</td>\n",
       "    </tr>\n",
       "  </tbody>\n",
       "</table>\n",
       "<p>72 rows × 5 columns</p>\n",
       "</div>"
      ],
      "text/plain": [
       "    vekil_party    sex      topic_label  count  normalized_count\n",
       "1      AK Parti  erkek      agriculture    925          3.268551\n",
       "2      AK Parti  erkek          economy   1099          3.883392\n",
       "3      AK Parti  erkek        education    842          2.975265\n",
       "4      AK Parti  erkek  foreign_affairs   1480          5.229682\n",
       "5      AK Parti  erkek          heroism   3976         14.049470\n",
       "..          ...    ...              ...    ...               ...\n",
       "138         MHP  kadin          heroism    185         61.666667\n",
       "139         MHP  kadin        judiciary     11          3.666667\n",
       "140         MHP  kadin            labor    109         36.333333\n",
       "141         MHP  kadin   local_politics     54         18.000000\n",
       "151         MHP  kadin   women/violence    336        112.000000\n",
       "\n",
       "[72 rows x 5 columns]"
      ]
     },
     "execution_count": 43,
     "metadata": {},
     "output_type": "execute_result"
    }
   ],
   "source": [
    "df26_normalized"
   ]
  },
  {
   "cell_type": "code",
   "execution_count": 44,
   "metadata": {},
   "outputs": [
    {
     "data": {
      "text/html": [
       "<div>\n",
       "<style scoped>\n",
       "    .dataframe tbody tr th:only-of-type {\n",
       "        vertical-align: middle;\n",
       "    }\n",
       "\n",
       "    .dataframe tbody tr th {\n",
       "        vertical-align: top;\n",
       "    }\n",
       "\n",
       "    .dataframe thead th {\n",
       "        text-align: right;\n",
       "    }\n",
       "</style>\n",
       "<table border=\"1\" class=\"dataframe\">\n",
       "  <thead>\n",
       "    <tr style=\"text-align: right;\">\n",
       "      <th></th>\n",
       "      <th>vekil_party</th>\n",
       "      <th>sex</th>\n",
       "      <th>topic_label</th>\n",
       "      <th>count</th>\n",
       "      <th>normalized_count</th>\n",
       "    </tr>\n",
       "  </thead>\n",
       "  <tbody>\n",
       "    <tr>\n",
       "      <th>0</th>\n",
       "      <td>AK Parti</td>\n",
       "      <td>erkek</td>\n",
       "      <td>agriculture</td>\n",
       "      <td>1514</td>\n",
       "      <td>5.586716</td>\n",
       "    </tr>\n",
       "    <tr>\n",
       "      <th>1</th>\n",
       "      <td>AK Parti</td>\n",
       "      <td>erkek</td>\n",
       "      <td>economy</td>\n",
       "      <td>1822</td>\n",
       "      <td>6.723247</td>\n",
       "    </tr>\n",
       "    <tr>\n",
       "      <th>2</th>\n",
       "      <td>AK Parti</td>\n",
       "      <td>erkek</td>\n",
       "      <td>education</td>\n",
       "      <td>1512</td>\n",
       "      <td>5.579336</td>\n",
       "    </tr>\n",
       "    <tr>\n",
       "      <th>3</th>\n",
       "      <td>AK Parti</td>\n",
       "      <td>erkek</td>\n",
       "      <td>foreign_affairs</td>\n",
       "      <td>1905</td>\n",
       "      <td>7.029520</td>\n",
       "    </tr>\n",
       "    <tr>\n",
       "      <th>5</th>\n",
       "      <td>AK Parti</td>\n",
       "      <td>erkek</td>\n",
       "      <td>heroism</td>\n",
       "      <td>1979</td>\n",
       "      <td>7.302583</td>\n",
       "    </tr>\n",
       "    <tr>\n",
       "      <th>...</th>\n",
       "      <td>...</td>\n",
       "      <td>...</td>\n",
       "      <td>...</td>\n",
       "      <td>...</td>\n",
       "      <td>...</td>\n",
       "    </tr>\n",
       "    <tr>\n",
       "      <th>145</th>\n",
       "      <td>MHP</td>\n",
       "      <td>kadin</td>\n",
       "      <td>heroism</td>\n",
       "      <td>32</td>\n",
       "      <td>10.666667</td>\n",
       "    </tr>\n",
       "    <tr>\n",
       "      <th>146</th>\n",
       "      <td>MHP</td>\n",
       "      <td>kadin</td>\n",
       "      <td>judiciary</td>\n",
       "      <td>6</td>\n",
       "      <td>2.000000</td>\n",
       "    </tr>\n",
       "    <tr>\n",
       "      <th>147</th>\n",
       "      <td>MHP</td>\n",
       "      <td>kadin</td>\n",
       "      <td>labor</td>\n",
       "      <td>52</td>\n",
       "      <td>17.333333</td>\n",
       "    </tr>\n",
       "    <tr>\n",
       "      <th>148</th>\n",
       "      <td>MHP</td>\n",
       "      <td>kadin</td>\n",
       "      <td>local_politics</td>\n",
       "      <td>6</td>\n",
       "      <td>2.000000</td>\n",
       "    </tr>\n",
       "    <tr>\n",
       "      <th>159</th>\n",
       "      <td>MHP</td>\n",
       "      <td>kadin</td>\n",
       "      <td>women/violence</td>\n",
       "      <td>181</td>\n",
       "      <td>60.333333</td>\n",
       "    </tr>\n",
       "  </tbody>\n",
       "</table>\n",
       "<p>72 rows × 5 columns</p>\n",
       "</div>"
      ],
      "text/plain": [
       "    vekil_party    sex      topic_label  count  normalized_count\n",
       "0      AK Parti  erkek      agriculture   1514          5.586716\n",
       "1      AK Parti  erkek          economy   1822          6.723247\n",
       "2      AK Parti  erkek        education   1512          5.579336\n",
       "3      AK Parti  erkek  foreign_affairs   1905          7.029520\n",
       "5      AK Parti  erkek          heroism   1979          7.302583\n",
       "..          ...    ...              ...    ...               ...\n",
       "145         MHP  kadin          heroism     32         10.666667\n",
       "146         MHP  kadin        judiciary      6          2.000000\n",
       "147         MHP  kadin            labor     52         17.333333\n",
       "148         MHP  kadin   local_politics      6          2.000000\n",
       "159         MHP  kadin   women/violence    181         60.333333\n",
       "\n",
       "[72 rows x 5 columns]"
      ]
     },
     "execution_count": 44,
     "metadata": {},
     "output_type": "execute_result"
    }
   ],
   "source": [
    "df24_normalized"
   ]
  },
  {
   "cell_type": "code",
   "execution_count": 45,
   "metadata": {},
   "outputs": [
    {
     "name": "stdout",
     "output_type": "stream",
     "text": [
      "sex                   erkek       kadin  difference\n",
      "topic_label                                        \n",
      "foreign_affairs   99.983784   53.258782   46.725002\n",
      "agriculture       56.490876   29.202899   27.287977\n",
      "economy          120.004702   95.364118   24.640585\n",
      "local_politics    66.600381   46.068613   20.531768\n",
      "heroism           69.980425   61.968487    8.011938\n",
      "judiciary        163.914081  158.799664    5.114417\n",
      "labor             53.938875   64.580084  -10.641209\n",
      "education         74.924157   99.867479  -24.943322\n",
      "women/violence    63.663241  155.877101  -92.213860\n"
     ]
    }
   ],
   "source": [
    "grouped = df27_normalized.groupby(['topic_label', 'sex'])['normalized_count'].sum().unstack()\n",
    "\n",
    "grouped['difference'] = grouped['erkek'] - grouped.get('kadin', 0)\n",
    "\n",
    "sorted27_grouped = grouped.sort_values(by='difference', ascending=False)\n",
    "\n",
    "print(sorted27_grouped)"
   ]
  },
  {
   "cell_type": "code",
   "execution_count": 46,
   "metadata": {},
   "outputs": [
    {
     "data": {
      "text/html": [
       "<div>\n",
       "<style scoped>\n",
       "    .dataframe tbody tr th:only-of-type {\n",
       "        vertical-align: middle;\n",
       "    }\n",
       "\n",
       "    .dataframe tbody tr th {\n",
       "        vertical-align: top;\n",
       "    }\n",
       "\n",
       "    .dataframe thead th {\n",
       "        text-align: right;\n",
       "    }\n",
       "</style>\n",
       "<table border=\"1\" class=\"dataframe\">\n",
       "  <thead>\n",
       "    <tr style=\"text-align: right;\">\n",
       "      <th>sex</th>\n",
       "      <th>erkek</th>\n",
       "      <th>kadin</th>\n",
       "      <th>difference</th>\n",
       "    </tr>\n",
       "    <tr>\n",
       "      <th>topic_label</th>\n",
       "      <th></th>\n",
       "      <th></th>\n",
       "      <th></th>\n",
       "    </tr>\n",
       "  </thead>\n",
       "  <tbody>\n",
       "    <tr>\n",
       "      <th>agriculture</th>\n",
       "      <td>56.490876</td>\n",
       "      <td>29.202899</td>\n",
       "      <td>27.287977</td>\n",
       "    </tr>\n",
       "    <tr>\n",
       "      <th>economy</th>\n",
       "      <td>120.004702</td>\n",
       "      <td>95.364118</td>\n",
       "      <td>24.640585</td>\n",
       "    </tr>\n",
       "    <tr>\n",
       "      <th>education</th>\n",
       "      <td>74.924157</td>\n",
       "      <td>99.867479</td>\n",
       "      <td>-24.943322</td>\n",
       "    </tr>\n",
       "    <tr>\n",
       "      <th>foreign_affairs</th>\n",
       "      <td>99.983784</td>\n",
       "      <td>53.258782</td>\n",
       "      <td>46.725002</td>\n",
       "    </tr>\n",
       "    <tr>\n",
       "      <th>heroism</th>\n",
       "      <td>69.980425</td>\n",
       "      <td>61.968487</td>\n",
       "      <td>8.011938</td>\n",
       "    </tr>\n",
       "    <tr>\n",
       "      <th>judiciary</th>\n",
       "      <td>163.914081</td>\n",
       "      <td>158.799664</td>\n",
       "      <td>5.114417</td>\n",
       "    </tr>\n",
       "    <tr>\n",
       "      <th>labor</th>\n",
       "      <td>53.938875</td>\n",
       "      <td>64.580084</td>\n",
       "      <td>-10.641209</td>\n",
       "    </tr>\n",
       "    <tr>\n",
       "      <th>local_politics</th>\n",
       "      <td>66.600381</td>\n",
       "      <td>46.068613</td>\n",
       "      <td>20.531768</td>\n",
       "    </tr>\n",
       "    <tr>\n",
       "      <th>women/violence</th>\n",
       "      <td>63.663241</td>\n",
       "      <td>155.877101</td>\n",
       "      <td>-92.213860</td>\n",
       "    </tr>\n",
       "  </tbody>\n",
       "</table>\n",
       "</div>"
      ],
      "text/plain": [
       "sex                   erkek       kadin  difference\n",
       "topic_label                                        \n",
       "agriculture       56.490876   29.202899   27.287977\n",
       "economy          120.004702   95.364118   24.640585\n",
       "education         74.924157   99.867479  -24.943322\n",
       "foreign_affairs   99.983784   53.258782   46.725002\n",
       "heroism           69.980425   61.968487    8.011938\n",
       "judiciary        163.914081  158.799664    5.114417\n",
       "labor             53.938875   64.580084  -10.641209\n",
       "local_politics    66.600381   46.068613   20.531768\n",
       "women/violence    63.663241  155.877101  -92.213860"
      ]
     },
     "execution_count": 46,
     "metadata": {},
     "output_type": "execute_result"
    }
   ],
   "source": [
    "grouped"
   ]
  },
  {
   "cell_type": "code",
   "execution_count": 47,
   "metadata": {},
   "outputs": [
    {
     "name": "stdout",
     "output_type": "stream",
     "text": [
      "sex                   erkek       kadin  difference\n",
      "topic_label                                        \n",
      "foreign_affairs   84.375218   36.489164   47.886054\n",
      "economy           57.467321   31.983488   25.483833\n",
      "heroism          122.753041   97.954592   24.798449\n",
      "agriculture       59.269444   38.776058   20.493386\n",
      "local_politics    67.082480   49.962848   17.119632\n",
      "labor             54.644548   66.355005  -11.710457\n",
      "judiciary         62.809575   92.934469  -30.124893\n",
      "education         55.935979  157.121259 -101.185280\n",
      "women/violence    30.089046  205.236842 -175.147796\n"
     ]
    }
   ],
   "source": [
    "\n",
    "grouped = df26_normalized.groupby(['topic_label', 'sex'])['normalized_count'].sum().unstack()\n",
    "\n",
    "grouped['difference'] = grouped['erkek'] - grouped.get('kadin', 0)\n",
    "\n",
    "sorted26_grouped = grouped.sort_values(by='difference', ascending=False)\n",
    "\n",
    "print(sorted26_grouped)"
   ]
  },
  {
   "cell_type": "code",
   "execution_count": 48,
   "metadata": {},
   "outputs": [
    {
     "name": "stdout",
     "output_type": "stream",
     "text": [
      "sex                   erkek       kadin  difference\n",
      "topic_label                                        \n",
      "foreign_affairs  126.426309   17.624113  108.802196\n",
      "local_politics    97.679473   19.850591   77.828882\n",
      "agriculture       76.526327   11.360284   65.166043\n",
      "judiciary         91.307743   33.406856   57.900887\n",
      "heroism           88.064981   31.506383   56.558598\n",
      "labor             91.972966   45.985579   45.987386\n",
      "economy           65.180166   21.051300   44.128866\n",
      "education         72.827017  117.754374  -44.927357\n",
      "women/violence    86.534267  160.514421  -73.980153\n"
     ]
    }
   ],
   "source": [
    "\n",
    "grouped = df24_normalized.groupby(['topic_label', 'sex'])['normalized_count'].sum().unstack()\n",
    "\n",
    "grouped['difference'] = grouped['erkek'] - grouped.get('kadin', 0)\n",
    "\n",
    "sorted24_grouped = grouped.sort_values(by='difference', ascending=False)\n",
    "\n",
    "print(sorted24_grouped)"
   ]
  },
  {
   "cell_type": "code",
   "execution_count": 49,
   "metadata": {},
   "outputs": [
    {
     "data": {
      "image/png": "[encoded data removed]",
      "text/plain": [
       "<Figure size 864x576 with 1 Axes>"
      ]
     },
     "metadata": {
      "needs_background": "light"
     },
     "output_type": "display_data"
    }
   ],
   "source": [
    "import matplotlib.pyplot as plt\n",
    "import pandas as pd\n",
    "\n",
    "dfs = [sorted24_grouped, sorted26_grouped, sorted27_grouped]\n",
    "labels = ['24', '26', '27']\n",
    "colors = ['red', 'navy', 'green']\n",
    "\n",
    "# Combining indices\n",
    "all_topics = sorted(set(sorted24_grouped.index) | set(sorted26_grouped.index) | set(sorted27_grouped.index))\n",
    "\n",
    "# Calculating sum of differences for each topic across all dataframes\n",
    "sum_diff = pd.concat(dfs).groupby(level=0)['difference'].sum()\n",
    "\n",
    "# Sorting topics by total difference\n",
    "all_topics_sorted = sum_diff.sort_values(ascending=False).index.tolist()\n",
    "\n",
    "# Reindexing dataframes according to the sorted topics list\n",
    "dfs = [df.reindex(all_topics_sorted).fillna(0) for df in dfs]\n",
    "\n",
    "fig, ax = plt.subplots(figsize=(12,8))\n",
    "N = len(all_topics_sorted)\n",
    "width = 0.3\n",
    "ind = range(N)\n",
    "\n",
    "for i, df in enumerate(dfs):\n",
    "    ax.bar([j + i * width for j in ind], df['difference'], width=width, label=labels[i], color=colors[i])\n",
    "\n",
    "# Adjusting the x-ticks to center for three datasets\n",
    "ax.set_xticks([j + 1.5 * width for j in ind])\n",
    "ax.set_xticklabels(all_topics_sorted, rotation=45)\n",
    "\n",
    "ax.legend(loc='upper right')\n",
    "plt.tight_layout()\n",
    "\n",
    "plt.show()\n"
   ]
  },
  {
   "cell_type": "code",
   "execution_count": 53,
   "metadata": {},
   "outputs": [
    {
     "data": {
      "image/png": "[encoded data removed]",
      "text/plain": [
       "<Figure size 1080x720 with 1 Axes>"
      ]
     },
     "metadata": {
      "needs_background": "light"
     },
     "output_type": "display_data"
    }
   ],
   "source": [
    "all_terms = pd.concat([df24_normalized, df26_normalized, df27_normalized])\n",
    "\n",
    "grouped_data = all_terms.groupby(['vekil_party', 'sex', 'topic_label']).sum()['normalized_count'].reset_index()\n",
    "\n",
    "male_data = grouped_data[grouped_data['sex'] == 'erkek']\n",
    "female_data = grouped_data[grouped_data['sex'] == 'kadin']\n",
    "\n",
    "# Merge data on party and topic\n",
    "merged_data = male_data.merge(female_data, on=['vekil_party', 'topic_label'], suffixes=('_male', '_female'))\n",
    "\n",
    "# Calculate difference\n",
    "merged_data['difference'] = merged_data['normalized_count_male'] - merged_data['normalized_count_female']\n",
    "import matplotlib.pyplot as plt\n",
    "import seaborn as sns\n",
    "\n",
    "# Define party colors\n",
    "colors = {\n",
    "    \"AK Parti\": \"orange\",\n",
    "    \"HDP\": \"purple\",\n",
    "    \"CHP\": \"red\",\n",
    "    \"MHP\": \"black\"\n",
    "}\n",
    "\n",
    "topic_order=['foreign_affairs','local_politics', 'agriculture','heroism','labor','economy','judiciary','education','women/violence']\n",
    "party_order=['AK Parti','CHP','HDP','MHP']\n",
    "\n",
    "# Set the size of the plot\n",
    "plt.figure(figsize=(15, 10))\n",
    "\n",
    "# Create the bar plot using the order and hue_order parameters\n",
    "sns.barplot(x='topic_label', y='difference', hue='vekil_party', data=merged_data, palette=colors, order=topic_order, hue_order=party_order)\n",
    "\n",
    "# Title and axis labels\n",
    "plt.title(\"Gender Differences in Topics across Terms 24, 26, 27\")\n",
    "plt.ylabel(\"Difference (Men Speech - Women Speech) per mp\")\n",
    "plt.xlabel(\"Topics\")\n",
    "plt.xticks(rotation=45)\n",
    "plt.tight_layout()\n",
    "\n",
    "# Display the plot\n",
    "plt.legend(title='Party')\n",
    "plt.show()\n"
   ]
  },
  {
   "cell_type": "code",
   "execution_count": null,
   "metadata": {},
   "outputs": [
    {
     "data": {
      "text/plain": [
       "['HDP', 'AK Parti', 'CHP']"
      ]
     },
     "execution_count": 305,
     "metadata": {},
     "output_type": "execute_result"
    }
   ],
   "source": [
    "party_order"
   ]
  },
  {
   "cell_type": "code",
   "execution_count": 54,
   "metadata": {},
   "outputs": [
    {
     "data": {
      "text/plain": [
       "topic_label\n",
       "agriculture        8\n",
       "economy            8\n",
       "education          8\n",
       "foreign_affairs    8\n",
       "heroism            8\n",
       "judiciary          8\n",
       "labor              8\n",
       "local_politics     8\n",
       "women/violence     8\n",
       "Name: count, dtype: int64"
      ]
     },
     "execution_count": 54,
     "metadata": {},
     "output_type": "execute_result"
    }
   ],
   "source": [
    "df27_normalized['topic_label'].value_counts()"
   ]
  },
  {
   "cell_type": "code",
   "execution_count": 60,
   "metadata": {},
   "outputs": [
    {
     "data": {
      "text/html": [
       "<div>\n",
       "<style scoped>\n",
       "    .dataframe tbody tr th:only-of-type {\n",
       "        vertical-align: middle;\n",
       "    }\n",
       "\n",
       "    .dataframe tbody tr th {\n",
       "        vertical-align: top;\n",
       "    }\n",
       "\n",
       "    .dataframe thead th {\n",
       "        text-align: right;\n",
       "    }\n",
       "</style>\n",
       "<table border=\"1\" class=\"dataframe\">\n",
       "  <thead>\n",
       "    <tr style=\"text-align: right;\">\n",
       "      <th></th>\n",
       "      <th>vekil_party</th>\n",
       "      <th>sex</th>\n",
       "      <th>topic_label</th>\n",
       "      <th>normalized_count</th>\n",
       "    </tr>\n",
       "  </thead>\n",
       "  <tbody>\n",
       "    <tr>\n",
       "      <th>0</th>\n",
       "      <td>AK Parti</td>\n",
       "      <td>erkek</td>\n",
       "      <td>agriculture</td>\n",
       "      <td>11.267032</td>\n",
       "    </tr>\n",
       "    <tr>\n",
       "      <th>1</th>\n",
       "      <td>AK Parti</td>\n",
       "      <td>erkek</td>\n",
       "      <td>economy</td>\n",
       "      <td>15.417564</td>\n",
       "    </tr>\n",
       "    <tr>\n",
       "      <th>2</th>\n",
       "      <td>AK Parti</td>\n",
       "      <td>erkek</td>\n",
       "      <td>education</td>\n",
       "      <td>13.113424</td>\n",
       "    </tr>\n",
       "    <tr>\n",
       "      <th>3</th>\n",
       "      <td>AK Parti</td>\n",
       "      <td>erkek</td>\n",
       "      <td>foreign_affairs</td>\n",
       "      <td>20.397858</td>\n",
       "    </tr>\n",
       "    <tr>\n",
       "      <th>4</th>\n",
       "      <td>AK Parti</td>\n",
       "      <td>erkek</td>\n",
       "      <td>heroism</td>\n",
       "      <td>32.209196</td>\n",
       "    </tr>\n",
       "    <tr>\n",
       "      <th>...</th>\n",
       "      <td>...</td>\n",
       "      <td>...</td>\n",
       "      <td>...</td>\n",
       "      <td>...</td>\n",
       "    </tr>\n",
       "    <tr>\n",
       "      <th>67</th>\n",
       "      <td>MHP</td>\n",
       "      <td>kadin</td>\n",
       "      <td>heroism</td>\n",
       "      <td>116.083333</td>\n",
       "    </tr>\n",
       "    <tr>\n",
       "      <th>68</th>\n",
       "      <td>MHP</td>\n",
       "      <td>kadin</td>\n",
       "      <td>judiciary</td>\n",
       "      <td>6.916667</td>\n",
       "    </tr>\n",
       "    <tr>\n",
       "      <th>69</th>\n",
       "      <td>MHP</td>\n",
       "      <td>kadin</td>\n",
       "      <td>labor</td>\n",
       "      <td>78.416667</td>\n",
       "    </tr>\n",
       "    <tr>\n",
       "      <th>70</th>\n",
       "      <td>MHP</td>\n",
       "      <td>kadin</td>\n",
       "      <td>local_politics</td>\n",
       "      <td>28.000000</td>\n",
       "    </tr>\n",
       "    <tr>\n",
       "      <th>71</th>\n",
       "      <td>MHP</td>\n",
       "      <td>kadin</td>\n",
       "      <td>women/violence</td>\n",
       "      <td>193.833333</td>\n",
       "    </tr>\n",
       "  </tbody>\n",
       "</table>\n",
       "<p>72 rows × 4 columns</p>\n",
       "</div>"
      ],
      "text/plain": [
       "   vekil_party    sex      topic_label  normalized_count\n",
       "0     AK Parti  erkek      agriculture         11.267032\n",
       "1     AK Parti  erkek          economy         15.417564\n",
       "2     AK Parti  erkek        education         13.113424\n",
       "3     AK Parti  erkek  foreign_affairs         20.397858\n",
       "4     AK Parti  erkek          heroism         32.209196\n",
       "..         ...    ...              ...               ...\n",
       "67         MHP  kadin          heroism        116.083333\n",
       "68         MHP  kadin        judiciary          6.916667\n",
       "69         MHP  kadin            labor         78.416667\n",
       "70         MHP  kadin   local_politics         28.000000\n",
       "71         MHP  kadin   women/violence        193.833333\n",
       "\n",
       "[72 rows x 4 columns]"
      ]
     },
     "execution_count": 60,
     "metadata": {},
     "output_type": "execute_result"
    }
   ],
   "source": [
    "grouped_data"
   ]
  },
  {
   "cell_type": "code",
   "execution_count": 61,
   "metadata": {},
   "outputs": [
    {
     "name": "stdout",
     "output_type": "stream",
     "text": [
      "   vekil_party    sex      topic_label  normalized_count  \\\n",
      "0     AK Parti  erkek      agriculture         11.267032   \n",
      "1     AK Parti  erkek          economy         15.417564   \n",
      "2     AK Parti  erkek        education         13.113424   \n",
      "3     AK Parti  erkek  foreign_affairs         20.397858   \n",
      "4     AK Parti  erkek          heroism         32.209196   \n",
      "..         ...    ...              ...               ...   \n",
      "67         MHP  kadin          heroism        116.083333   \n",
      "68         MHP  kadin        judiciary          6.916667   \n",
      "69         MHP  kadin            labor         78.416667   \n",
      "70         MHP  kadin   local_politics         28.000000   \n",
      "71         MHP  kadin   women/violence        193.833333   \n",
      "\n",
      "    total_normalized_count  percentage  \n",
      "0               147.668837    7.629932  \n",
      "1               147.668837   10.440635  \n",
      "2               147.668837    8.880292  \n",
      "3               147.668837   13.813245  \n",
      "4               147.668837   21.811776  \n",
      "..                     ...         ...  \n",
      "67              776.750000   14.944748  \n",
      "68              776.750000    0.890462  \n",
      "69              776.750000   10.095483  \n",
      "70              776.750000    3.604763  \n",
      "71              776.750000   24.954404  \n",
      "\n",
      "[72 rows x 6 columns]\n"
     ]
    }
   ],
   "source": [
    "# Calculate total normalized count for each party-gender combination\n",
    "total_counts = grouped_data.groupby(['vekil_party', 'sex'])['normalized_count'].sum().reset_index()\n",
    "total_counts = total_counts.rename(columns={'normalized_count': 'total_normalized_count'})\n",
    "\n",
    "# Merge the total counts back to the main dataframe\n",
    "merged_df = pd.merge(grouped_data, total_counts, on=['vekil_party', 'sex'])\n",
    "\n",
    "# Calculate the percentage for each topic based on the total count\n",
    "merged_df['percentage'] = (merged_df['normalized_count'] / merged_df['total_normalized_count']) * 100\n",
    "\n",
    "print(merged_df)"
   ]
  },
  {
   "cell_type": "code",
   "execution_count": 62,
   "metadata": {},
   "outputs": [
    {
     "data": {
      "text/plain": [
       "array([[  2.41176471,   4.81092437,   4.55882353,   8.13865546,\n",
       "         10.85714286,   7.71428571,   2.49579832,   5.74369748,\n",
       "          1.00840336],\n",
       "       [ 22.968     ,  40.216     ,  18.632     ,  15.04      ,\n",
       "          9.872     ,  39.328     ,  18.72      ,  22.296     ,\n",
       "          5.448     ],\n",
       "       [ 16.33333333,  63.        ,  28.66666667,  26.87179487,\n",
       "          6.71794872, 101.20512821,  15.92307692,  17.53846154,\n",
       "         53.71794872],\n",
       "       [ 14.77777778,  11.97777778,  23.06666667,  49.93333333,\n",
       "         42.53333333,  15.66666667,  16.8       ,  21.02222222,\n",
       "          3.48888889]])"
      ]
     },
     "execution_count": 62,
     "metadata": {},
     "output_type": "execute_result"
    }
   ],
   "source": [
    "men_data"
   ]
  },
  {
   "cell_type": "code",
   "execution_count": 63,
   "metadata": {},
   "outputs": [
    {
     "data": {
      "text/plain": [
       "array([[  1.44642857,   2.25      ,   6.03571429,   3.69642857,\n",
       "          8.57142857,   4.32142857,   1.35714286,   4.73214286,\n",
       "          4.55357143],\n",
       "       [ 11.17647059,  49.29411765,  25.41176471,   5.88235294,\n",
       "          5.64705882,  28.58823529,  21.35294118,  22.17647059,\n",
       "         31.82352941],\n",
       "       [  8.08      ,  36.32      ,  28.92      ,  27.68      ,\n",
       "          4.        , 124.64      ,  17.12      ,  11.16      ,\n",
       "         98.        ],\n",
       "       [  8.5       ,   7.5       ,  39.5       ,  16.        ,\n",
       "         43.75      ,   1.25      ,  24.75      ,   8.        ,\n",
       "         21.5       ]])"
      ]
     },
     "execution_count": 63,
     "metadata": {},
     "output_type": "execute_result"
    }
   ],
   "source": [
    "women_data"
   ]
  },
  {
   "cell_type": "code",
   "execution_count": 69,
   "metadata": {},
   "outputs": [
    {
     "data": {
      "image/png": "[encoded data removed]",
      "text/plain": [
       "<Figure size 1080x576 with 1 Axes>"
      ]
     },
     "metadata": {
      "needs_background": "light"
     },
     "output_type": "display_data"
    }
   ],
   "source": [
    "import pandas as pd\n",
    "import numpy as np\n",
    "import matplotlib.pyplot as plt\n",
    "\n",
    "party_gender_colors = {\n",
    "    'AK Parti_erkek': 'darkorange',\n",
    "    'AK Parti_kadin': 'lightsalmon',\n",
    "    'CHP_erkek': 'darkred',\n",
    "    'CHP_kadin': '#FF6666',\n",
    "    'HDP_erkek': 'purple',\n",
    "    'HDP_kadin': 'violet',\n",
    "    'MHP_erkek': 'black',\n",
    "    'MHP_kadin': 'grey',\n",
    "}\n",
    "\n",
    "def annotate_bars(ax, data, start_index, bar_width, is_women=False):\n",
    "    \"\"\"Utility function to annotate stacked bar charts with percentage values.\"\"\"\n",
    "    n_parties, n_topics = data.shape\n",
    "    for j in range(n_topics):  # Iterate over topics\n",
    "        cumulative_height = 0  # Tracks the cumulative height to position annotations correctly in the stacked bar\n",
    "        for i in range(n_parties):  # Iterate over parties\n",
    "            bar_height = data[i, j]\n",
    "            if bar_height > 0:  # Avoid trying to annotate zero-height bars\n",
    "                if is_women and i > 0:  # Adjust for the offset for women bars\n",
    "                    offset = np.sum(data[:i, j])\n",
    "                else:\n",
    "                    offset = 0\n",
    "                ax.text(start_index[j], cumulative_height + bar_height / 2 + offset, f'{bar_height:.1f}%', \n",
    "                        ha='center', va='center', color='white', fontsize=9)\n",
    "                cumulative_height += bar_height\n",
    "\n",
    "\n",
    "\n",
    "\n",
    "df = merged_df\n",
    "topic_order=['foreign_affairs', 'agriculture','local_politics','economy','heroism','labor','judiciary','education','women/violence']\n",
    "party_order=['AK Parti','CHP','HDP','MHP']\n",
    "\n",
    "bar_width = 0.35\n",
    "index = np.arange(len(topic_order))\n",
    "\n",
    "men_data = []\n",
    "women_data = []\n",
    "\n",
    "for topic in topic_order:\n",
    "    men_values = []\n",
    "    women_values = []\n",
    "    for party in party_order:\n",
    "        men_values.append(df[(df['topic_label'] == topic) & (df['sex'] == 'erkek') & (df['vekil_party'] == party)]['percentage'].values[0] if not df[(df['topic_label'] == topic) & (df['sex'] == 'erkek') & (df['vekil_party'] == party)].empty else 0)\n",
    "        women_values.append(df[(df['topic_label'] == topic) & (df['sex'] == 'kadin') & (df['vekil_party'] == party)]['percentage'].values[0] if not df[(df['topic_label'] == topic) & (df['sex'] == 'kadin') & (df['vekil_party'] == party)].empty else 0)\n",
    "    men_data.append(men_values)\n",
    "    women_data.append(women_values)\n",
    "\n",
    "men_data = np.array(men_data).T\n",
    "women_data = np.array(women_data).T\n",
    "fig, ax = plt.subplots(figsize=(15, 8))\n",
    "\n",
    "for i in range(len(party_order)):\n",
    "    if i == 0:\n",
    "        ax.bar(index, men_data[i], bar_width, label=f'Men {party_order[i]}', color=party_gender_colors[f'{party_order[i]}_erkek'])\n",
    "        ax.bar(index + bar_width, women_data[i], bar_width, label=f'Women {party_order[i]}', color=party_gender_colors[f'{party_order[i]}_kadin'], bottom=np.sum(women_data[:i], axis=0))\n",
    "    else:\n",
    "        ax.bar(index, men_data[i], bar_width, label=f'Men {party_order[i]}', color=party_gender_colors[f'{party_order[i]}_erkek'], bottom=np.sum(men_data[:i], axis=0))\n",
    "        ax.bar(index + bar_width, women_data[i], bar_width, label=f'Women {party_order[i]}', color=party_gender_colors[f'{party_order[i]}_kadin'], bottom=np.sum(women_data[:i], axis=0))\n",
    "\n",
    "# Add percentage annotations to the bars\n",
    "annotate_bars(ax, men_data, index, bar_width)\n",
    "annotate_bars(ax, women_data, index + bar_width, bar_width)\n",
    "\n",
    "ax.set_xlabel('Topic')\n",
    "ax.set_ylabel('Percentage of speeches sex and political party')\n",
    "ax.set_title('TERM 24,26,27 Percentage of speeches based on topic, sex, and political party')\n",
    "ax.set_xticks(index + bar_width / 2)\n",
    "ax.set_xticklabels(topic_order, rotation=45)\n",
    "ax.legend(loc='upper right')\n",
    "fig.tight_layout()\n",
    "\n",
    "plt.show()\n"
   ]
  },
  {
   "cell_type": "code",
   "execution_count": 111,
   "metadata": {},
   "outputs": [
    {
     "name": "stdout",
     "output_type": "stream",
     "text": [
      "vekil_party\n",
      "AK Parti    274\n",
      "CHP         138\n",
      "HDP          62\n",
      "MHP          47\n",
      "Name: vekil_name, dtype: int64\n"
     ]
    }
   ],
   "source": [
    "unique_mps_per_party = tm27.groupby('vekil_party')['vekil_name'].nunique()\n",
    "unique_mps_per_party[\"AK Parti\"]\n",
    "print(unique_mps_per_party)\n"
   ]
  },
  {
   "cell_type": "code",
   "execution_count": 85,
   "metadata": {},
   "outputs": [
    {
     "name": "stdout",
     "output_type": "stream",
     "text": [
      "   vekil_party    sex      topic_label  normalized_count  \\\n",
      "0     AK Parti  erkek      agriculture         11.267032   \n",
      "1     AK Parti  erkek          economy         15.417564   \n",
      "2     AK Parti  erkek        education         13.113424   \n",
      "3     AK Parti  erkek  foreign_affairs         20.397858   \n",
      "4     AK Parti  erkek          heroism         32.209196   \n",
      "..         ...    ...              ...               ...   \n",
      "67         MHP  kadin          heroism        116.083333   \n",
      "68         MHP  kadin        judiciary          6.916667   \n",
      "69         MHP  kadin            labor         78.416667   \n",
      "70         MHP  kadin   local_politics         28.000000   \n",
      "71         MHP  kadin   women/violence        193.833333   \n",
      "\n",
      "    total_normalized_count  percentage  \n",
      "0               147.668837    7.629932  \n",
      "1               147.668837   10.440635  \n",
      "2               147.668837    8.880292  \n",
      "3               147.668837   13.813245  \n",
      "4               147.668837   21.811776  \n",
      "..                     ...         ...  \n",
      "67              776.750000   14.944748  \n",
      "68              776.750000    0.890462  \n",
      "69              776.750000   10.095483  \n",
      "70              776.750000    3.604763  \n",
      "71              776.750000   24.954404  \n",
      "\n",
      "[72 rows x 6 columns]\n"
     ]
    }
   ],
   "source": [
    "# Calculate total normalized count for each party-gender combination\n",
    "total_counts = df27_normalized.groupby(['vekil_party', 'sex'])['normalized_count'].sum().reset_index()\n",
    "total_counts = total_counts.rename(columns={'normalized_count': 'total_normalized_count'})\n",
    "\n",
    "# Merge the total counts back to the main dataframe\n",
    "df27_normalized = pd.merge(grouped_data, total_counts, on=['vekil_party', 'sex'])\n",
    "\n",
    "# Calculate the percentage for each topic based on the total count\n",
    "df27_normalized['percentage'] = (df27_normalized['normalized_count'] / df27_normalized['total_normalized_count']) * 100\n",
    "\n",
    "print(df27_normalized)"
   ]
  },
  {
   "cell_type": "code",
   "execution_count": 86,
   "metadata": {},
   "outputs": [
    {
     "name": "stdout",
     "output_type": "stream",
     "text": [
      "vekil_party  sex  \n",
      "AK Parti     erkek    147.668837\n",
      "             kadin     97.780932\n",
      "CHP          erkek    472.056760\n",
      "             kadin    448.686275\n",
      "HDP          erkek    803.486047\n",
      "             kadin    677.637647\n",
      "MHP          erkek    737.234779\n",
      "             kadin    776.750000\n",
      "Name: normalized_count, dtype: float64\n"
     ]
    }
   ],
   "source": [
    "df_group = df27_normalized.groupby(['vekil_party', 'sex']).normalized_count.sum()\n",
    "print(df_group)\n"
   ]
  },
  {
   "cell_type": "code",
   "execution_count": 113,
   "metadata": {},
   "outputs": [
    {
     "data": {
      "image/png": "[encoded data removed]",
      "text/plain": [
       "<Figure size 1080x576 with 1 Axes>"
      ]
     },
     "metadata": {
      "needs_background": "light"
     },
     "output_type": "display_data"
    }
   ],
   "source": [
    "def annotate_bars(ax, data, start_index, bar_width, is_women=False):\n",
    "    \"\"\"Utility function to annotate stacked bar charts with percentage values.\"\"\"\n",
    "    n_parties, n_topics = data.shape\n",
    "    for j in range(n_topics):  # Iterate over topics\n",
    "        cumulative_height = 0  # Tracks the cumulative height to position annotations correctly in the stacked bar\n",
    "        for i in range(n_parties):  # Iterate over parties\n",
    "            bar_height = data[i, j]\n",
    "            if bar_height > 0:  # Avoid trying to annotate zero-height bars\n",
    "                ax.text(start_index[j], cumulative_height + bar_height / 2, f'{bar_height:.1f}%', \n",
    "                        ha='center', va='center', color='white', fontsize=9)\n",
    "                cumulative_height += bar_height\n",
    "\n",
    "import pandas as pd\n",
    "import numpy as np\n",
    "import matplotlib.pyplot as plt\n",
    "\n",
    "party_gender_colors = {\n",
    "    'AK Parti_erkek': 'darkorange',\n",
    "    'AK Parti_kadin': 'lightsalmon',\n",
    "    'CHP_erkek': 'darkred',\n",
    "    'CHP_kadin': '#FF6666',\n",
    "    'HDP_erkek': 'purple',\n",
    "    'HDP_kadin': 'violet',\n",
    "    'MHP_erkek': 'black',\n",
    "    'MHP_kadin': 'grey',\n",
    "}\n",
    "\n",
    "\n",
    "df = df27_normalized.copy()\n",
    "topic_order=['foreign_affairs', 'agriculture','local_politics','economy','heroism','labor','judiciary','education','women/violence']\n",
    "party_order=['AK Parti','CHP','HDP','MHP']\n",
    "\n",
    "bar_width = 0.35\n",
    "index = np.arange(len(topic_order))\n",
    "\n",
    "men_data = []\n",
    "women_data = []\n",
    "\n",
    "for topic in topic_order:\n",
    "    men_values = []\n",
    "    women_values = []\n",
    "    for party in party_order:\n",
    "        men_values.append(df[(df['topic_label'] == topic) & (df['sex'] == 'erkek') & (df['vekil_party'] == party)]['normalized_count'].values[0] if not df[(df['topic_label'] == topic) & (df['sex'] == 'erkek') & (df['vekil_party'] == party)].empty else 0)\n",
    "        women_values.append(df[(df['topic_label'] == topic) & (df['sex'] == 'kadin') & (df['vekil_party'] == party)]['normalized_count'].values[0] if not df[(df['topic_label'] == topic) & (df['sex'] == 'kadin') & (df['vekil_party'] == party)].empty else 0)\n",
    "    men_data.append(men_values)\n",
    "    women_data.append(women_values)\n",
    "\n",
    "men_data = np.array(men_data).T\n",
    "women_data = np.array(women_data).T\n",
    "fig, ax = plt.subplots(figsize=(15, 8))\n",
    "\n",
    "for i in range(len(party_order)):\n",
    "    if i == 0:\n",
    "        ax.bar(index, men_data[i], bar_width, label=f'Men {party_order[i]}', color=party_gender_colors[f'{party_order[i]}_erkek'])\n",
    "        ax.bar(index + bar_width, women_data[i], bar_width, label=f'Women {party_order[i]}', color=party_gender_colors[f'{party_order[i]}_kadin'], bottom=np.sum(women_data[:i], axis=0))\n",
    "    else:\n",
    "        ax.bar(index, men_data[i], bar_width, label=f'Men {party_order[i]}', color=party_gender_colors[f'{party_order[i]}_erkek'], bottom=np.sum(men_data[:i], axis=0))\n",
    "        ax.bar(index + bar_width, women_data[i], bar_width, label=f'Women {party_order[i]}', color=party_gender_colors[f'{party_order[i]}_kadin'], bottom=np.sum(women_data[:i], axis=0))\n",
    "\n",
    "# Add percentage annotations to the bars\n",
    "annotate_bars(ax, men_data, index, bar_width)\n",
    "annotate_bars(ax, women_data, index + bar_width, bar_width)\n",
    "\n",
    "\n",
    "ax.set_xlabel('Topic')\n",
    "ax.set_ylabel('# speech per MP')\n",
    "ax.set_title('TERM 27 Speech Count per MP based on topic, sex and political party')\n",
    "ax.set_xticks(index + bar_width / 2)\n",
    "ax.set_xticklabels(topic_order, rotation=45)\n",
    "ax.legend(loc='upper right')\n",
    "fig.tight_layout()\n",
    "\n",
    "plt.show()\n"
   ]
  },
  {
   "cell_type": "code",
   "execution_count": null,
   "metadata": {},
   "outputs": [
    {
     "data": {
      "image/png": "[encoded data removed]",
      "text/plain": [
       "<Figure size 1080x576 with 1 Axes>"
      ]
     },
     "metadata": {
      "needs_background": "light"
     },
     "output_type": "display_data"
    }
   ],
   "source": [
    "import pandas as pd\n",
    "import numpy as np\n",
    "import matplotlib.pyplot as plt\n",
    "\n",
    "\n",
    "party_gender_colors = {\n",
    "    'AK Parti_erkek': 'darkorange',\n",
    "    'AK Parti_kadin': 'lightsalmon',\n",
    "    'CHP_erkek': 'darkred',\n",
    "    'CHP_kadin': '#FF6666',\n",
    "    'HDP_erkek': 'purple',\n",
    "    'HDP_kadin': 'violet',\n",
    "    'MHP_erkek': 'black',\n",
    "    'MHP_kadin': 'grey',\n",
    "}\n",
    "\n",
    "\n",
    "df = df26_normalized.copy()\n",
    "topics = df['topic_label'].unique()\n",
    "parties = df['vekil_party'].unique()\n",
    "\n",
    "bar_width = 0.35\n",
    "index = np.arange(len(topics))\n",
    "\n",
    "men_data = []\n",
    "women_data = []\n",
    "\n",
    "for topic in topics:\n",
    "    men_values = []\n",
    "    women_values = []\n",
    "    for party in parties:\n",
    "        men_values.append(df[(df['topic_label'] == topic) & (df['sex'] == 'erkek') & (df['vekil_party'] == party)]['normalized_count'].values[0] if not df[(df['topic_label'] == topic) & (df['sex'] == 'erkek') & (df['vekil_party'] == party)].empty else 0)\n",
    "        women_values.append(df[(df['topic_label'] == topic) & (df['sex'] == 'kadin') & (df['vekil_party'] == party)]['normalized_count'].values[0] if not df[(df['topic_label'] == topic) & (df['sex'] == 'kadin') & (df['vekil_party'] == party)].empty else 0)\n",
    "    men_data.append(men_values)\n",
    "    women_data.append(women_values)\n",
    "\n",
    "men_data = np.array(men_data).T\n",
    "women_data = np.array(women_data).T\n",
    "fig, ax = plt.subplots(figsize=(15, 8))\n",
    "\n",
    "for i in range(len(parties)):\n",
    "    if i == 0:\n",
    "        ax.bar(index, men_data[i], bar_width, label=f'Men {parties[i]}', color=party_gender_colors[f'{parties[i]}_erkek'])\n",
    "        ax.bar(index + bar_width, women_data[i], bar_width, label=f'Women {parties[i]}', color=party_gender_colors[f'{parties[i]}_kadin'], bottom=np.sum(women_data[:i], axis=0))\n",
    "    else:\n",
    "        ax.bar(index, men_data[i], bar_width, label=f'Men {parties[i]}', color=party_gender_colors[f'{parties[i]}_erkek'], bottom=np.sum(men_data[:i], axis=0))\n",
    "        ax.bar(index + bar_width, women_data[i], bar_width, label=f'Women {parties[i]}', color=party_gender_colors[f'{parties[i]}_kadin'], bottom=np.sum(women_data[:i], axis=0))\n",
    "\n",
    "\n",
    "ax.set_xlabel('Topic')\n",
    "ax.set_ylabel('# speech per MP')\n",
    "ax.set_title('TERM 26 Speech Count per MP based on topic, sex and political party')\n",
    "ax.set_xticks(index + bar_width / 2)\n",
    "ax.set_xticklabels(topics, rotation=45)\n",
    "ax.legend(loc='upper right')\n",
    "fig.tight_layout()\n",
    "\n",
    "plt.show()\n"
   ]
  },
  {
   "cell_type": "code",
   "execution_count": null,
   "metadata": {},
   "outputs": [
    {
     "data": {
      "image/png": "[encoded data removed]",
      "text/plain": [
       "<Figure size 1080x576 with 1 Axes>"
      ]
     },
     "metadata": {
      "needs_background": "light"
     },
     "output_type": "display_data"
    }
   ],
   "source": [
    "import pandas as pd\n",
    "import numpy as np\n",
    "import matplotlib.pyplot as plt\n",
    "\n",
    "\n",
    "party_gender_colors = {\n",
    "    'AK Parti_erkek': 'darkorange',\n",
    "    'AK Parti_kadin': 'lightsalmon',\n",
    "    'CHP_erkek': 'darkred',\n",
    "    'CHP_kadin': '#FF6666',\n",
    "    'HDP_erkek': 'purple',\n",
    "    'HDP_kadin': 'violet',\n",
    "    'MHP_erkek': 'black',\n",
    "    'MHP_kadin': 'grey',\n",
    "}\n",
    "\n",
    "\n",
    "df = df24_normalized.copy()\n",
    "topics = df['topic_label'].unique()\n",
    "parties = df['vekil_party'].unique()\n",
    "\n",
    "bar_width = 0.35\n",
    "index = np.arange(len(topics))\n",
    "\n",
    "men_data = []\n",
    "women_data = []\n",
    "\n",
    "for topic in topics:\n",
    "    men_values = []\n",
    "    women_values = []\n",
    "    for party in parties:\n",
    "        men_values.append(df[(df['topic_label'] == topic) & (df['sex'] == 'erkek') & (df['vekil_party'] == party)]['normalized_count'].values[0] if not df[(df['topic_label'] == topic) & (df['sex'] == 'erkek') & (df['vekil_party'] == party)].empty else 0)\n",
    "        women_values.append(df[(df['topic_label'] == topic) & (df['sex'] == 'kadin') & (df['vekil_party'] == party)]['normalized_count'].values[0] if not df[(df['topic_label'] == topic) & (df['sex'] == 'kadin') & (df['vekil_party'] == party)].empty else 0)\n",
    "    men_data.append(men_values)\n",
    "    women_data.append(women_values)\n",
    "\n",
    "men_data = np.array(men_data).T\n",
    "women_data = np.array(women_data).T\n",
    "fig, ax = plt.subplots(figsize=(15, 8))\n",
    "\n",
    "for i in range(len(parties)):\n",
    "    if i == 0:\n",
    "        ax.bar(index, men_data[i], bar_width, label=f'Men {parties[i]}', color=party_gender_colors[f'{parties[i]}_erkek'])\n",
    "        ax.bar(index + bar_width, women_data[i], bar_width, label=f'Women {parties[i]}', color=party_gender_colors[f'{parties[i]}_kadin'], bottom=np.sum(women_data[:i], axis=0))\n",
    "    else:\n",
    "        ax.bar(index, men_data[i], bar_width, label=f'Men {parties[i]}', color=party_gender_colors[f'{parties[i]}_erkek'], bottom=np.sum(men_data[:i], axis=0))\n",
    "        ax.bar(index + bar_width, women_data[i], bar_width, label=f'Women {parties[i]}', color=party_gender_colors[f'{parties[i]}_kadin'], bottom=np.sum(women_data[:i], axis=0))\n",
    "\n",
    "\n",
    "ax.set_xlabel('Topic')\n",
    "ax.set_ylabel('# speech per MP')\n",
    "ax.set_title('TERM 24 Speech Count per MP based on topic, sex and political party')\n",
    "ax.set_xticks(index + bar_width / 2)\n",
    "ax.set_xticklabels(topics, rotation=45)\n",
    "ax.legend(loc='upper right')\n",
    "fig.tight_layout()\n",
    "\n",
    "plt.show()\n"
   ]
  },
  {
   "cell_type": "code",
   "execution_count": null,
   "metadata": {},
   "outputs": [],
   "source": [
    "tm24['vekil_party']=tm24['vekil_party'].astype(str)+tm24['sex'].astype(str)\n",
    "tm26['vekil_party']=tm26['vekil_party'].astype(str)+tm26['sex'].astype(str)\n",
    "tm27['vekil_party']=tm27['vekil_party'].astype(str)+tm27['sex'].astype(str)"
   ]
  },
  {
   "cell_type": "code",
   "execution_count": null,
   "metadata": {},
   "outputs": [],
   "source": [
    "grouped24_2 = tm24.groupby(['vekil_party','topic_label']).size().reset_index(name='count')"
   ]
  },
  {
   "cell_type": "code",
   "execution_count": null,
   "metadata": {},
   "outputs": [],
   "source": [
    "exclude1 = [ 'parliamentary affairs','residual 1' , 'parliamentary procedures'  , 'residual 2',\n",
    "                'residual 3','parliamentary disputes']\n",
    "\n",
    "grouped24_filtered_2 = grouped24_2[~grouped24_2['topic_label'].isin(exclude1)]"
   ]
  },
  {
   "cell_type": "code",
   "execution_count": null,
   "metadata": {},
   "outputs": [
    {
     "name": "stderr",
     "output_type": "stream",
     "text": [
      "<ipython-input-102-7f9b5724e694>:8: SettingWithCopyWarning: \n",
      "A value is trying to be set on a copy of a slice from a DataFrame.\n",
      "Try using .loc[row_indexer,col_indexer] = value instead\n",
      "\n",
      "See the caveats in the documentation: https://pandas.pydata.org/pandas-docs/stable/user_guide/indexing.html#returning-a-view-versus-a-copy\n",
      "  grouped24_filtered_2['percentage'] = grouped24_filtered_2.apply(lambda row: (row['count'] / new_total_per_party[row['vekil_party']]) * 100, axis=1)\n"
     ]
    },
    {
     "data": {
      "text/plain": [
       "<Figure size 864x504 with 0 Axes>"
      ]
     },
     "metadata": {},
     "output_type": "display_data"
    },
    {
     "data": {
      "image/png": "[encoded data removed]",
      "text/plain": [
       "<Figure size 720x504 with 1 Axes>"
      ]
     },
     "metadata": {
      "needs_background": "light"
     },
     "output_type": "display_data"
    }
   ],
   "source": [
    "import matplotlib.pyplot as plt\n",
    "import numpy as np\n",
    "\n",
    "new_total_per_party = grouped24_filtered_2.groupby('vekil_party')['count'].sum()\n",
    "grouped24_filtered_2['percentage'] = grouped24_filtered_2.apply(lambda row: (row['count'] / new_total_per_party[row['vekil_party']]) * 100, axis=1)\n",
    "pivot_filtered_df = grouped24_filtered_2.pivot_table(index='vekil_party', columns='topic_label', values='percentage', fill_value=0)\n",
    "\n",
    "# Define a color palette\n",
    "palette = plt.get_cmap('tab20').colors\n",
    "while len(palette) < len(pivot_filtered_df.columns):\n",
    "    # Extend the color palette by blending colors if there are more topics than available distinct colors\n",
    "    new_color = np.array(palette[-20]) * 0.5 + np.array(palette[-19]) * 0.5\n",
    "    palette.append(tuple(new_color))\n",
    "\n",
    "# Choose colors for the topics\n",
    "colors = palette[:len(pivot_filtered_df.columns)]\n",
    "\n",
    "# Plotting\n",
    "plt.figure(figsize=(12, 7))\n",
    "pivot_filtered_df.plot(kind='bar', stacked=True, color=colors, figsize=(10,7))\n",
    "plt.title('TERM 24 Percentage Distribution of Topics by Party (Filtered)')\n",
    "plt.ylabel('Percentage')\n",
    "plt.xlabel('Party')\n",
    "plt.legend(title='Topic', bbox_to_anchor=(1.05, 1), loc='upper left')\n",
    "plt.tight_layout()\n",
    "plt.show()\n"
   ]
  },
  {
   "cell_type": "code",
   "execution_count": null,
   "metadata": {},
   "outputs": [],
   "source": [
    "grouped26_2 = tm26.groupby(['vekil_party','topic_label']).size().reset_index(name='count')"
   ]
  },
  {
   "cell_type": "code",
   "execution_count": null,
   "metadata": {},
   "outputs": [],
   "source": [
    "topic_lookup26 = [\n",
    "    'heroism', 'women/violence', 'education', 'agriculture',\n",
    "    'parliamentary affairs', 'terror', 'residual', 'parliamentary procedures', 'economy',\n",
    "    'residual 2', 'judiciary', 'local politics', 'residual 3',\n",
    "    'regime discussions', 'heroism', 'parliamentary disputes', 'foreign affairs', 'labor',\n",
    "    'private sector', 'TAX','terror'\n",
    "]\n",
    "\n",
    "# List of topics to exclude\n",
    "exclude1 = [ 'parliamentary affairs','residual' , 'parliamentary procedures'  , 'residual 2',\n",
    "                'residual 3','parliamentary disputes']\n",
    "\n",
    "# Filter out \n",
    "grouped26_filtered_2 = grouped26_2[~grouped26_2['topic_label'].isin(exclude1)]"
   ]
  },
  {
   "cell_type": "code",
   "execution_count": null,
   "metadata": {},
   "outputs": [
    {
     "name": "stderr",
     "output_type": "stream",
     "text": [
      "<ipython-input-101-157b2f64892f>:8: SettingWithCopyWarning: \n",
      "A value is trying to be set on a copy of a slice from a DataFrame.\n",
      "Try using .loc[row_indexer,col_indexer] = value instead\n",
      "\n",
      "See the caveats in the documentation: https://pandas.pydata.org/pandas-docs/stable/user_guide/indexing.html#returning-a-view-versus-a-copy\n",
      "  grouped26_filtered_2['percentage'] = grouped26_filtered_2.apply(lambda row: (row['count'] / new_total_per_party[row['vekil_party']]) * 100, axis=1)\n"
     ]
    },
    {
     "data": {
      "text/plain": [
       "<Figure size 864x504 with 0 Axes>"
      ]
     },
     "metadata": {},
     "output_type": "display_data"
    },
    {
     "data": {
      "image/png": "[encoded data removed]",
      "text/plain": [
       "<Figure size 720x504 with 1 Axes>"
      ]
     },
     "metadata": {
      "needs_background": "light"
     },
     "output_type": "display_data"
    }
   ],
   "source": [
    "import matplotlib.pyplot as plt\n",
    "import numpy as np\n",
    "\n",
    "new_total_per_party = grouped26_filtered_2.groupby('vekil_party')['count'].sum()\n",
    "grouped26_filtered_2['percentage'] = grouped26_filtered_2.apply(lambda row: (row['count'] / new_total_per_party[row['vekil_party']]) * 100, axis=1)\n",
    "pivot_filtered_df = grouped26_filtered_2.pivot_table(index='vekil_party', columns='topic_label', values='percentage', fill_value=0)\n",
    "\n",
    "# Define a color palette\n",
    "palette = plt.get_cmap('tab20').colors\n",
    "while len(palette) < len(pivot_filtered_df.columns):\n",
    "    # Extend the color palette by blending colors if there are more topics than available distinct colors\n",
    "    new_color = np.array(palette[-20]) * 0.5 + np.array(palette[-19]) * 0.5\n",
    "    palette.append(tuple(new_color))\n",
    "\n",
    "# Choose colors for the topics\n",
    "colors = palette[:len(pivot_filtered_df.columns)]\n",
    "\n",
    "# Plotting\n",
    "plt.figure(figsize=(12, 7))\n",
    "pivot_filtered_df.plot(kind='bar', stacked=True, color=colors, figsize=(10,7))\n",
    "plt.title('TERM 26 Percentage Distribution of Topics by Party (Filtered)')\n",
    "plt.ylabel('Percentage')\n",
    "plt.xlabel('Party')\n",
    "plt.legend(title='Topic', bbox_to_anchor=(1.05, 1), loc='upper left')\n",
    "plt.tight_layout()\n",
    "plt.show()\n"
   ]
  },
  {
   "cell_type": "code",
   "execution_count": null,
   "metadata": {},
   "outputs": [],
   "source": [
    "grouped27_2 = tm27.groupby(['vekil_party','topic_label']).size().reset_index(name='count')"
   ]
  },
  {
   "cell_type": "code",
   "execution_count": null,
   "metadata": {},
   "outputs": [],
   "source": [
    "topic_lookup27 = [\n",
    "    'parliamentary disputes', 'education', 'private_sector', 'judiciary', \n",
    "    'local_politics', 'corruption', 'environment', 'private_sector', 'foreign affairs',\n",
    "    'TAX', 'parliamentary procedures', 'heroism', 'women/violence',\n",
    "    'economy', 'agriculture', 'labor', 'private_sector', 'economy',\n",
    "    'earthquake', 'judiciary'\n",
    "]\n",
    "\n",
    "exclude1 = [ 'parliamentary disputes', 'parliamentary procedures' , 'residual 2', \n",
    "                'residual 3','parliamentary disputes']\n",
    "\n",
    "grouped27_filtered_2 = grouped27_2[~grouped27_2['topic_label'].isin(exclude1)]"
   ]
  },
  {
   "cell_type": "code",
   "execution_count": null,
   "metadata": {},
   "outputs": [
    {
     "name": "stderr",
     "output_type": "stream",
     "text": [
      "<ipython-input-100-eb526fc6e537>:8: SettingWithCopyWarning: \n",
      "A value is trying to be set on a copy of a slice from a DataFrame.\n",
      "Try using .loc[row_indexer,col_indexer] = value instead\n",
      "\n",
      "See the caveats in the documentation: https://pandas.pydata.org/pandas-docs/stable/user_guide/indexing.html#returning-a-view-versus-a-copy\n",
      "  grouped27_filtered_2['percentage'] = grouped27_filtered_2.apply(lambda row: (row['count'] / new_total_per_party[row['vekil_party']]) * 100, axis=1)\n"
     ]
    },
    {
     "data": {
      "text/plain": [
       "<Figure size 864x504 with 0 Axes>"
      ]
     },
     "metadata": {},
     "output_type": "display_data"
    },
    {
     "data": {
      "image/png": "[encoded data removed]",
      "text/plain": [
       "<Figure size 720x504 with 1 Axes>"
      ]
     },
     "metadata": {
      "needs_background": "light"
     },
     "output_type": "display_data"
    }
   ],
   "source": [
    "import matplotlib.pyplot as plt\n",
    "import numpy as np\n",
    "\n",
    "new_total_per_party = grouped27_filtered_2.groupby('vekil_party')['count'].sum()\n",
    "grouped27_filtered_2['percentage'] = grouped27_filtered_2.apply(lambda row: (row['count'] / new_total_per_party[row['vekil_party']]) * 100, axis=1)\n",
    "pivot_filtered_df = grouped27_filtered_2.pivot_table(index='vekil_party', columns='topic_label', values='percentage', fill_value=0)\n",
    "\n",
    "# Define a color palette\n",
    "palette = plt.get_cmap('tab20').colors\n",
    "while len(palette) < len(pivot_filtered_df.columns):\n",
    "    # Extend the color palette by blending colors if there are more topics than available distinct colors\n",
    "    new_color = np.array(palette[-20]) * 0.5 + np.array(palette[-19]) * 0.5\n",
    "    palette.append(tuple(new_color))\n",
    "\n",
    "# Choose colors for the topics\n",
    "colors = palette[:len(pivot_filtered_df.columns)]\n",
    "\n",
    "# Plotting\n",
    "plt.figure(figsize=(12, 7))\n",
    "pivot_filtered_df.plot(kind='bar', stacked=True, color=colors, figsize=(10,7))\n",
    "plt.title('TERM 27 Percentage Distribution of Topics by Party (Filtered)')\n",
    "plt.ylabel('Percentage')\n",
    "plt.xlabel('Party')\n",
    "plt.legend(title='Topic', bbox_to_anchor=(1.05, 1), loc='upper left')\n",
    "plt.tight_layout()\n",
    "plt.show()\n"
   ]
  }
 ],
 "metadata": {
  "kernelspec": {
   "display_name": "Python 3",
   "language": "python",
   "name": "python3"
  },
  "language_info": {
   "codemirror_mode": {
    "name": "ipython",
    "version": 3
   },
   "file_extension": ".py",
   "mimetype": "text/x-python",
   "name": "python",
   "nbconvert_exporter": "python",
   "pygments_lexer": "ipython3",
   "version": "3.11.2"
  },
  "orig_nbformat": 4
 },
 "nbformat": 4,
 "nbformat_minor": 2
}
